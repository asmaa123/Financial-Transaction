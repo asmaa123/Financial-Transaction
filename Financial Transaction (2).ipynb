{
 "cells": [
  {
   "cell_type": "markdown",
   "id": "bf1b1816-b1b9-4df3-b6be-600cc77bbd73",
   "metadata": {},
   "source": [
    "## <img src=\"D:/transaction.png\" alt=\"Transaction Image\" width=\"40\" style=\"vertical-align:middle;\"/>  Financial Transactions Fraud Detection , and AI-Powered Banking Solution\n",
    "\n",
    "\n"
   ]
  },
  {
   "cell_type": "markdown",
   "id": "0f7ee067-ca92-43ed-a71d-a927133b6a7a",
   "metadata": {},
   "source": [
    "# **📚 Read Libraries**\n"
   ]
  },
  {
   "cell_type": "code",
   "execution_count": 92,
   "id": "34d5b82e-1398-4ec0-bdb1-8e17eee61478",
   "metadata": {},
   "outputs": [],
   "source": [
    "import pandas as pd \n",
    "import numpy as np \n",
    "import pyodbc \n",
    "import matplotlib.pyplot as plt \n",
    "import seaborn as sns\n",
    "import plotly.express as px\n",
    "import warnings\n",
    "warnings.filterwarnings(\"ignore\")"
   ]
  },
  {
   "cell_type": "markdown",
   "id": "d5039b72-a46e-489b-9a6f-c6299529ac67",
   "metadata": {},
   "source": [
    "# **💾 Upload Dataset from SQL Server**\n"
   ]
  },
  {
   "cell_type": "code",
   "execution_count": 2,
   "id": "d315c3e3-4981-4c1c-af24-b1f7afae35ba",
   "metadata": {},
   "outputs": [],
   "source": [
    "conn_str = (\n",
    "    'DRIVER={ODBC Driver 17 for SQL Server};'\n",
    "    'SERVER=OMARFATHY-HP-EL;'\n",
    "    'DATABASE=finance;'\n",
    "    'Trusted_Connection=yes;'\n",
    ")\n",
    "\n",
    "# Connect to the server\n",
    "conn = pyodbc.connect(conn_str)\n",
    "cursor = conn.cursor()"
   ]
  },
  {
   "cell_type": "code",
   "execution_count": 4,
   "id": "02f05ba4-7df9-45bf-94b9-8af38d197284",
   "metadata": {},
   "outputs": [],
   "source": [
    "query = \"SELECT * FROM dbo.users_data\"\n",
    "df_users= pd.read_sql(query, conn)\n",
    "\n"
   ]
  },
  {
   "cell_type": "code",
   "execution_count": null,
   "id": "dcac843d-a6d0-4b0d-9054-b02a0c7ceadb",
   "metadata": {},
   "outputs": [],
   "source": []
  },
  {
   "cell_type": "code",
   "execution_count": 5,
   "id": "3b87956d-e4db-4d33-af22-dd020c1203bb",
   "metadata": {},
   "outputs": [
    {
     "data": {
      "text/html": [
       "<div>\n",
       "<style scoped>\n",
       "    .dataframe tbody tr th:only-of-type {\n",
       "        vertical-align: middle;\n",
       "    }\n",
       "\n",
       "    .dataframe tbody tr th {\n",
       "        vertical-align: top;\n",
       "    }\n",
       "\n",
       "    .dataframe thead th {\n",
       "        text-align: right;\n",
       "    }\n",
       "</style>\n",
       "<table border=\"1\" class=\"dataframe\">\n",
       "  <thead>\n",
       "    <tr style=\"text-align: right;\">\n",
       "      <th></th>\n",
       "      <th>id</th>\n",
       "      <th>current_age</th>\n",
       "      <th>retirement_age</th>\n",
       "      <th>birth_year</th>\n",
       "      <th>birth_month</th>\n",
       "      <th>gender</th>\n",
       "      <th>address</th>\n",
       "      <th>latitude</th>\n",
       "      <th>longitude</th>\n",
       "      <th>per_capita_income</th>\n",
       "      <th>yearly_income</th>\n",
       "      <th>total_debt</th>\n",
       "      <th>credit_score</th>\n",
       "      <th>num_credit_cards</th>\n",
       "    </tr>\n",
       "  </thead>\n",
       "  <tbody>\n",
       "    <tr>\n",
       "      <th>0</th>\n",
       "      <td>0</td>\n",
       "      <td>33</td>\n",
       "      <td>69</td>\n",
       "      <td>1986</td>\n",
       "      <td>3</td>\n",
       "      <td>Male</td>\n",
       "      <td>858 Plum Avenue</td>\n",
       "      <td>43.590000</td>\n",
       "      <td>-70.330002</td>\n",
       "      <td>29237.0</td>\n",
       "      <td>59613.0</td>\n",
       "      <td>36199.0</td>\n",
       "      <td>763</td>\n",
       "      <td>4</td>\n",
       "    </tr>\n",
       "    <tr>\n",
       "      <th>1</th>\n",
       "      <td>1</td>\n",
       "      <td>43</td>\n",
       "      <td>74</td>\n",
       "      <td>1976</td>\n",
       "      <td>4</td>\n",
       "      <td>Female</td>\n",
       "      <td>113 Burns Lane</td>\n",
       "      <td>30.440001</td>\n",
       "      <td>-87.180000</td>\n",
       "      <td>22247.0</td>\n",
       "      <td>45360.0</td>\n",
       "      <td>14587.0</td>\n",
       "      <td>704</td>\n",
       "      <td>3</td>\n",
       "    </tr>\n",
       "    <tr>\n",
       "      <th>2</th>\n",
       "      <td>2</td>\n",
       "      <td>48</td>\n",
       "      <td>64</td>\n",
       "      <td>1971</td>\n",
       "      <td>8</td>\n",
       "      <td>Male</td>\n",
       "      <td>6035 Forest Avenue</td>\n",
       "      <td>40.840000</td>\n",
       "      <td>-73.870003</td>\n",
       "      <td>13461.0</td>\n",
       "      <td>27447.0</td>\n",
       "      <td>80850.0</td>\n",
       "      <td>673</td>\n",
       "      <td>5</td>\n",
       "    </tr>\n",
       "    <tr>\n",
       "      <th>3</th>\n",
       "      <td>3</td>\n",
       "      <td>49</td>\n",
       "      <td>65</td>\n",
       "      <td>1970</td>\n",
       "      <td>12</td>\n",
       "      <td>Male</td>\n",
       "      <td>840 Elm Avenue</td>\n",
       "      <td>33.889999</td>\n",
       "      <td>-98.510002</td>\n",
       "      <td>13705.0</td>\n",
       "      <td>27943.0</td>\n",
       "      <td>18693.0</td>\n",
       "      <td>681</td>\n",
       "      <td>4</td>\n",
       "    </tr>\n",
       "    <tr>\n",
       "      <th>4</th>\n",
       "      <td>4</td>\n",
       "      <td>54</td>\n",
       "      <td>72</td>\n",
       "      <td>1965</td>\n",
       "      <td>3</td>\n",
       "      <td>Female</td>\n",
       "      <td>6016 Little Creek Boulevard</td>\n",
       "      <td>47.610001</td>\n",
       "      <td>-122.300003</td>\n",
       "      <td>37485.0</td>\n",
       "      <td>76431.0</td>\n",
       "      <td>115362.0</td>\n",
       "      <td>716</td>\n",
       "      <td>5</td>\n",
       "    </tr>\n",
       "  </tbody>\n",
       "</table>\n",
       "</div>"
      ],
      "text/plain": [
       "   id  current_age  retirement_age  birth_year  birth_month  gender  \\\n",
       "0   0           33              69        1986            3    Male   \n",
       "1   1           43              74        1976            4  Female   \n",
       "2   2           48              64        1971            8    Male   \n",
       "3   3           49              65        1970           12    Male   \n",
       "4   4           54              72        1965            3  Female   \n",
       "\n",
       "                       address   latitude   longitude  per_capita_income  \\\n",
       "0              858 Plum Avenue  43.590000  -70.330002            29237.0   \n",
       "1               113 Burns Lane  30.440001  -87.180000            22247.0   \n",
       "2           6035 Forest Avenue  40.840000  -73.870003            13461.0   \n",
       "3               840 Elm Avenue  33.889999  -98.510002            13705.0   \n",
       "4  6016 Little Creek Boulevard  47.610001 -122.300003            37485.0   \n",
       "\n",
       "   yearly_income  total_debt  credit_score  num_credit_cards  \n",
       "0        59613.0     36199.0           763                 4  \n",
       "1        45360.0     14587.0           704                 3  \n",
       "2        27447.0     80850.0           673                 5  \n",
       "3        27943.0     18693.0           681                 4  \n",
       "4        76431.0    115362.0           716                 5  "
      ]
     },
     "execution_count": 5,
     "metadata": {},
     "output_type": "execute_result"
    }
   ],
   "source": [
    "df_users.head()"
   ]
  },
  {
   "cell_type": "code",
   "execution_count": 6,
   "id": "df399bd5-52a3-4da5-b998-857de8923659",
   "metadata": {},
   "outputs": [],
   "source": [
    "query = \"SELECT * FROM dbo.cards_data\"\n",
    "df_cards= pd.read_sql(query, conn)\n",
    "\n"
   ]
  },
  {
   "cell_type": "code",
   "execution_count": 7,
   "id": "f578c359-e105-4d4d-a7b5-341c5e164c21",
   "metadata": {},
   "outputs": [
    {
     "data": {
      "text/html": [
       "<div>\n",
       "<style scoped>\n",
       "    .dataframe tbody tr th:only-of-type {\n",
       "        vertical-align: middle;\n",
       "    }\n",
       "\n",
       "    .dataframe tbody tr th {\n",
       "        vertical-align: top;\n",
       "    }\n",
       "\n",
       "    .dataframe thead th {\n",
       "        text-align: right;\n",
       "    }\n",
       "</style>\n",
       "<table border=\"1\" class=\"dataframe\">\n",
       "  <thead>\n",
       "    <tr style=\"text-align: right;\">\n",
       "      <th></th>\n",
       "      <th>id</th>\n",
       "      <th>client_id</th>\n",
       "      <th>card_brand</th>\n",
       "      <th>card_type</th>\n",
       "      <th>card_number</th>\n",
       "      <th>expires</th>\n",
       "      <th>cvv</th>\n",
       "      <th>has_chip</th>\n",
       "      <th>num_cards_issued</th>\n",
       "      <th>credit_limit</th>\n",
       "      <th>acct_open_date</th>\n",
       "      <th>year_pin_last_changed</th>\n",
       "      <th>card_on_dark_web</th>\n",
       "    </tr>\n",
       "  </thead>\n",
       "  <tbody>\n",
       "    <tr>\n",
       "      <th>0</th>\n",
       "      <td>0</td>\n",
       "      <td>1362</td>\n",
       "      <td>Amex</td>\n",
       "      <td>Credit</td>\n",
       "      <td>393314135668401</td>\n",
       "      <td>04/2024</td>\n",
       "      <td>866</td>\n",
       "      <td>True</td>\n",
       "      <td>2</td>\n",
       "      <td>33900.0</td>\n",
       "      <td>01/1991</td>\n",
       "      <td>2014</td>\n",
       "      <td>No</td>\n",
       "    </tr>\n",
       "    <tr>\n",
       "      <th>1</th>\n",
       "      <td>1</td>\n",
       "      <td>550</td>\n",
       "      <td>Mastercard</td>\n",
       "      <td>Credit</td>\n",
       "      <td>5278231764792292</td>\n",
       "      <td>06/2024</td>\n",
       "      <td>396</td>\n",
       "      <td>True</td>\n",
       "      <td>1</td>\n",
       "      <td>11600.0</td>\n",
       "      <td>01/1994</td>\n",
       "      <td>2013</td>\n",
       "      <td>No</td>\n",
       "    </tr>\n",
       "    <tr>\n",
       "      <th>2</th>\n",
       "      <td>2</td>\n",
       "      <td>556</td>\n",
       "      <td>Mastercard</td>\n",
       "      <td>Debit</td>\n",
       "      <td>5889825928297675</td>\n",
       "      <td>09/2021</td>\n",
       "      <td>422</td>\n",
       "      <td>True</td>\n",
       "      <td>1</td>\n",
       "      <td>19948.0</td>\n",
       "      <td>01/1995</td>\n",
       "      <td>2011</td>\n",
       "      <td>No</td>\n",
       "    </tr>\n",
       "    <tr>\n",
       "      <th>3</th>\n",
       "      <td>3</td>\n",
       "      <td>1937</td>\n",
       "      <td>Visa</td>\n",
       "      <td>Credit</td>\n",
       "      <td>4289888672554714</td>\n",
       "      <td>04/2020</td>\n",
       "      <td>736</td>\n",
       "      <td>True</td>\n",
       "      <td>2</td>\n",
       "      <td>16400.0</td>\n",
       "      <td>01/1995</td>\n",
       "      <td>2015</td>\n",
       "      <td>No</td>\n",
       "    </tr>\n",
       "    <tr>\n",
       "      <th>4</th>\n",
       "      <td>4</td>\n",
       "      <td>1981</td>\n",
       "      <td>Mastercard</td>\n",
       "      <td>Debit</td>\n",
       "      <td>5433366978583845</td>\n",
       "      <td>03/2024</td>\n",
       "      <td>530</td>\n",
       "      <td>True</td>\n",
       "      <td>2</td>\n",
       "      <td>19439.0</td>\n",
       "      <td>01/1997</td>\n",
       "      <td>2007</td>\n",
       "      <td>No</td>\n",
       "    </tr>\n",
       "  </tbody>\n",
       "</table>\n",
       "</div>"
      ],
      "text/plain": [
       "   id  client_id  card_brand card_type       card_number  expires  cvv  \\\n",
       "0   0       1362        Amex    Credit   393314135668401  04/2024  866   \n",
       "1   1        550  Mastercard    Credit  5278231764792292  06/2024  396   \n",
       "2   2        556  Mastercard     Debit  5889825928297675  09/2021  422   \n",
       "3   3       1937        Visa    Credit  4289888672554714  04/2020  736   \n",
       "4   4       1981  Mastercard     Debit  5433366978583845  03/2024  530   \n",
       "\n",
       "   has_chip  num_cards_issued  credit_limit acct_open_date  \\\n",
       "0      True                 2       33900.0        01/1991   \n",
       "1      True                 1       11600.0        01/1994   \n",
       "2      True                 1       19948.0        01/1995   \n",
       "3      True                 2       16400.0        01/1995   \n",
       "4      True                 2       19439.0        01/1997   \n",
       "\n",
       "   year_pin_last_changed card_on_dark_web  \n",
       "0                   2014               No  \n",
       "1                   2013               No  \n",
       "2                   2011               No  \n",
       "3                   2015               No  \n",
       "4                   2007               No  "
      ]
     },
     "execution_count": 7,
     "metadata": {},
     "output_type": "execute_result"
    }
   ],
   "source": [
    "df_cards.head()"
   ]
  },
  {
   "cell_type": "code",
   "execution_count": 8,
   "id": "83470c6f-4b7f-436f-b1e2-6203af5a586e",
   "metadata": {},
   "outputs": [],
   "source": [
    "query = \"SELECT * FROM dbo.transactions_data\"\n",
    "df_trans= pd.read_sql(query, conn)\n",
    "\n",
    "\n"
   ]
  },
  {
   "cell_type": "code",
   "execution_count": 9,
   "id": "82030286-853a-4189-af60-41a5b5f1de56",
   "metadata": {},
   "outputs": [
    {
     "data": {
      "text/html": [
       "<div>\n",
       "<style scoped>\n",
       "    .dataframe tbody tr th:only-of-type {\n",
       "        vertical-align: middle;\n",
       "    }\n",
       "\n",
       "    .dataframe tbody tr th {\n",
       "        vertical-align: top;\n",
       "    }\n",
       "\n",
       "    .dataframe thead th {\n",
       "        text-align: right;\n",
       "    }\n",
       "</style>\n",
       "<table border=\"1\" class=\"dataframe\">\n",
       "  <thead>\n",
       "    <tr style=\"text-align: right;\">\n",
       "      <th></th>\n",
       "      <th>id</th>\n",
       "      <th>date</th>\n",
       "      <th>client_id</th>\n",
       "      <th>card_id</th>\n",
       "      <th>amount</th>\n",
       "      <th>use_chip</th>\n",
       "      <th>merchant_id</th>\n",
       "      <th>merchant_city</th>\n",
       "      <th>merchant_state</th>\n",
       "      <th>zip</th>\n",
       "      <th>mcc</th>\n",
       "      <th>errors</th>\n",
       "    </tr>\n",
       "  </thead>\n",
       "  <tbody>\n",
       "    <tr>\n",
       "      <th>0</th>\n",
       "      <td>7475327</td>\n",
       "      <td>2010-01-01 00:01:00</td>\n",
       "      <td>1556</td>\n",
       "      <td>2972</td>\n",
       "      <td>$-77.00</td>\n",
       "      <td>Swipe Transaction</td>\n",
       "      <td>59935</td>\n",
       "      <td>Beulah</td>\n",
       "      <td>ND</td>\n",
       "      <td>58523.0</td>\n",
       "      <td>5499</td>\n",
       "      <td>None</td>\n",
       "    </tr>\n",
       "    <tr>\n",
       "      <th>1</th>\n",
       "      <td>7475328</td>\n",
       "      <td>2010-01-01 00:02:00</td>\n",
       "      <td>561</td>\n",
       "      <td>4575</td>\n",
       "      <td>$14.57</td>\n",
       "      <td>Swipe Transaction</td>\n",
       "      <td>67570</td>\n",
       "      <td>Bettendorf</td>\n",
       "      <td>IA</td>\n",
       "      <td>52722.0</td>\n",
       "      <td>5311</td>\n",
       "      <td>None</td>\n",
       "    </tr>\n",
       "    <tr>\n",
       "      <th>2</th>\n",
       "      <td>7475329</td>\n",
       "      <td>2010-01-01 00:02:00</td>\n",
       "      <td>1129</td>\n",
       "      <td>102</td>\n",
       "      <td>$80.00</td>\n",
       "      <td>Swipe Transaction</td>\n",
       "      <td>27092</td>\n",
       "      <td>Vista</td>\n",
       "      <td>CA</td>\n",
       "      <td>92084.0</td>\n",
       "      <td>4829</td>\n",
       "      <td>None</td>\n",
       "    </tr>\n",
       "    <tr>\n",
       "      <th>3</th>\n",
       "      <td>7475331</td>\n",
       "      <td>2010-01-01 00:05:00</td>\n",
       "      <td>430</td>\n",
       "      <td>2860</td>\n",
       "      <td>$200.00</td>\n",
       "      <td>Swipe Transaction</td>\n",
       "      <td>27092</td>\n",
       "      <td>Crown Point</td>\n",
       "      <td>IN</td>\n",
       "      <td>46307.0</td>\n",
       "      <td>4829</td>\n",
       "      <td>None</td>\n",
       "    </tr>\n",
       "    <tr>\n",
       "      <th>4</th>\n",
       "      <td>7475332</td>\n",
       "      <td>2010-01-01 00:06:00</td>\n",
       "      <td>848</td>\n",
       "      <td>3915</td>\n",
       "      <td>$46.41</td>\n",
       "      <td>Swipe Transaction</td>\n",
       "      <td>13051</td>\n",
       "      <td>Harwood</td>\n",
       "      <td>MD</td>\n",
       "      <td>20776.0</td>\n",
       "      <td>5813</td>\n",
       "      <td>None</td>\n",
       "    </tr>\n",
       "    <tr>\n",
       "      <th>...</th>\n",
       "      <td>...</td>\n",
       "      <td>...</td>\n",
       "      <td>...</td>\n",
       "      <td>...</td>\n",
       "      <td>...</td>\n",
       "      <td>...</td>\n",
       "      <td>...</td>\n",
       "      <td>...</td>\n",
       "      <td>...</td>\n",
       "      <td>...</td>\n",
       "      <td>...</td>\n",
       "      <td>...</td>\n",
       "    </tr>\n",
       "    <tr>\n",
       "      <th>13305910</th>\n",
       "      <td>23761868</td>\n",
       "      <td>2019-10-31 23:56:00</td>\n",
       "      <td>1718</td>\n",
       "      <td>2379</td>\n",
       "      <td>$1.11</td>\n",
       "      <td>Chip Transaction</td>\n",
       "      <td>86438</td>\n",
       "      <td>West Covina</td>\n",
       "      <td>CA</td>\n",
       "      <td>91792.0</td>\n",
       "      <td>5499</td>\n",
       "      <td>None</td>\n",
       "    </tr>\n",
       "    <tr>\n",
       "      <th>13305911</th>\n",
       "      <td>23761869</td>\n",
       "      <td>2019-10-31 23:56:00</td>\n",
       "      <td>1766</td>\n",
       "      <td>2066</td>\n",
       "      <td>$12.80</td>\n",
       "      <td>Online Transaction</td>\n",
       "      <td>39261</td>\n",
       "      <td>ONLINE</td>\n",
       "      <td>None</td>\n",
       "      <td>NaN</td>\n",
       "      <td>5815</td>\n",
       "      <td>None</td>\n",
       "    </tr>\n",
       "    <tr>\n",
       "      <th>13305912</th>\n",
       "      <td>23761870</td>\n",
       "      <td>2019-10-31 23:57:00</td>\n",
       "      <td>199</td>\n",
       "      <td>1031</td>\n",
       "      <td>$40.44</td>\n",
       "      <td>Swipe Transaction</td>\n",
       "      <td>2925</td>\n",
       "      <td>Allen</td>\n",
       "      <td>TX</td>\n",
       "      <td>75002.0</td>\n",
       "      <td>4900</td>\n",
       "      <td>None</td>\n",
       "    </tr>\n",
       "    <tr>\n",
       "      <th>13305913</th>\n",
       "      <td>23761873</td>\n",
       "      <td>2019-10-31 23:58:00</td>\n",
       "      <td>1986</td>\n",
       "      <td>5443</td>\n",
       "      <td>$4.00</td>\n",
       "      <td>Chip Transaction</td>\n",
       "      <td>46284</td>\n",
       "      <td>Daly City</td>\n",
       "      <td>CA</td>\n",
       "      <td>94014.0</td>\n",
       "      <td>5411</td>\n",
       "      <td>None</td>\n",
       "    </tr>\n",
       "    <tr>\n",
       "      <th>13305914</th>\n",
       "      <td>23761874</td>\n",
       "      <td>2019-10-31 23:59:00</td>\n",
       "      <td>489</td>\n",
       "      <td>5697</td>\n",
       "      <td>$12.88</td>\n",
       "      <td>Chip Transaction</td>\n",
       "      <td>24658</td>\n",
       "      <td>Greenbrier</td>\n",
       "      <td>TN</td>\n",
       "      <td>37073.0</td>\n",
       "      <td>5921</td>\n",
       "      <td>None</td>\n",
       "    </tr>\n",
       "  </tbody>\n",
       "</table>\n",
       "<p>13305915 rows × 12 columns</p>\n",
       "</div>"
      ],
      "text/plain": [
       "                id                date  client_id  card_id   amount  \\\n",
       "0          7475327 2010-01-01 00:01:00       1556     2972  $-77.00   \n",
       "1          7475328 2010-01-01 00:02:00        561     4575   $14.57   \n",
       "2          7475329 2010-01-01 00:02:00       1129      102   $80.00   \n",
       "3          7475331 2010-01-01 00:05:00        430     2860  $200.00   \n",
       "4          7475332 2010-01-01 00:06:00        848     3915   $46.41   \n",
       "...            ...                 ...        ...      ...      ...   \n",
       "13305910  23761868 2019-10-31 23:56:00       1718     2379    $1.11   \n",
       "13305911  23761869 2019-10-31 23:56:00       1766     2066   $12.80   \n",
       "13305912  23761870 2019-10-31 23:57:00        199     1031   $40.44   \n",
       "13305913  23761873 2019-10-31 23:58:00       1986     5443    $4.00   \n",
       "13305914  23761874 2019-10-31 23:59:00        489     5697   $12.88   \n",
       "\n",
       "                    use_chip  merchant_id merchant_city merchant_state  \\\n",
       "0          Swipe Transaction        59935        Beulah             ND   \n",
       "1          Swipe Transaction        67570    Bettendorf             IA   \n",
       "2          Swipe Transaction        27092         Vista             CA   \n",
       "3          Swipe Transaction        27092   Crown Point             IN   \n",
       "4          Swipe Transaction        13051       Harwood             MD   \n",
       "...                      ...          ...           ...            ...   \n",
       "13305910    Chip Transaction        86438   West Covina             CA   \n",
       "13305911  Online Transaction        39261        ONLINE           None   \n",
       "13305912   Swipe Transaction         2925         Allen             TX   \n",
       "13305913    Chip Transaction        46284     Daly City             CA   \n",
       "13305914    Chip Transaction        24658    Greenbrier             TN   \n",
       "\n",
       "              zip   mcc errors  \n",
       "0         58523.0  5499   None  \n",
       "1         52722.0  5311   None  \n",
       "2         92084.0  4829   None  \n",
       "3         46307.0  4829   None  \n",
       "4         20776.0  5813   None  \n",
       "...           ...   ...    ...  \n",
       "13305910  91792.0  5499   None  \n",
       "13305911      NaN  5815   None  \n",
       "13305912  75002.0  4900   None  \n",
       "13305913  94014.0  5411   None  \n",
       "13305914  37073.0  5921   None  \n",
       "\n",
       "[13305915 rows x 12 columns]"
      ]
     },
     "execution_count": 9,
     "metadata": {},
     "output_type": "execute_result"
    }
   ],
   "source": [
    "df_trans"
   ]
  },
  {
   "cell_type": "code",
   "execution_count": 10,
   "id": "55e357d4-c89c-47bf-9872-edd45786ca7f",
   "metadata": {},
   "outputs": [],
   "source": [
    "df_trans = df_trans.sort_values(by='id').reset_index(drop=True)\n",
    "\n"
   ]
  },
  {
   "cell_type": "code",
   "execution_count": 11,
   "id": "fad4f6c4-b8ba-4cb0-947e-7c0ca228e36c",
   "metadata": {},
   "outputs": [
    {
     "data": {
      "text/html": [
       "<div>\n",
       "<style scoped>\n",
       "    .dataframe tbody tr th:only-of-type {\n",
       "        vertical-align: middle;\n",
       "    }\n",
       "\n",
       "    .dataframe tbody tr th {\n",
       "        vertical-align: top;\n",
       "    }\n",
       "\n",
       "    .dataframe thead th {\n",
       "        text-align: right;\n",
       "    }\n",
       "</style>\n",
       "<table border=\"1\" class=\"dataframe\">\n",
       "  <thead>\n",
       "    <tr style=\"text-align: right;\">\n",
       "      <th></th>\n",
       "      <th>id</th>\n",
       "      <th>date</th>\n",
       "      <th>client_id</th>\n",
       "      <th>card_id</th>\n",
       "      <th>amount</th>\n",
       "      <th>use_chip</th>\n",
       "      <th>merchant_id</th>\n",
       "      <th>merchant_city</th>\n",
       "      <th>merchant_state</th>\n",
       "      <th>zip</th>\n",
       "      <th>mcc</th>\n",
       "      <th>errors</th>\n",
       "    </tr>\n",
       "  </thead>\n",
       "  <tbody>\n",
       "    <tr>\n",
       "      <th>0</th>\n",
       "      <td>7475327</td>\n",
       "      <td>2010-01-01 00:01:00</td>\n",
       "      <td>1556</td>\n",
       "      <td>2972</td>\n",
       "      <td>$-77.00</td>\n",
       "      <td>Swipe Transaction</td>\n",
       "      <td>59935</td>\n",
       "      <td>Beulah</td>\n",
       "      <td>ND</td>\n",
       "      <td>58523.0</td>\n",
       "      <td>5499</td>\n",
       "      <td>None</td>\n",
       "    </tr>\n",
       "    <tr>\n",
       "      <th>1</th>\n",
       "      <td>7475328</td>\n",
       "      <td>2010-01-01 00:02:00</td>\n",
       "      <td>561</td>\n",
       "      <td>4575</td>\n",
       "      <td>$14.57</td>\n",
       "      <td>Swipe Transaction</td>\n",
       "      <td>67570</td>\n",
       "      <td>Bettendorf</td>\n",
       "      <td>IA</td>\n",
       "      <td>52722.0</td>\n",
       "      <td>5311</td>\n",
       "      <td>None</td>\n",
       "    </tr>\n",
       "    <tr>\n",
       "      <th>2</th>\n",
       "      <td>7475329</td>\n",
       "      <td>2010-01-01 00:02:00</td>\n",
       "      <td>1129</td>\n",
       "      <td>102</td>\n",
       "      <td>$80.00</td>\n",
       "      <td>Swipe Transaction</td>\n",
       "      <td>27092</td>\n",
       "      <td>Vista</td>\n",
       "      <td>CA</td>\n",
       "      <td>92084.0</td>\n",
       "      <td>4829</td>\n",
       "      <td>None</td>\n",
       "    </tr>\n",
       "    <tr>\n",
       "      <th>3</th>\n",
       "      <td>7475331</td>\n",
       "      <td>2010-01-01 00:05:00</td>\n",
       "      <td>430</td>\n",
       "      <td>2860</td>\n",
       "      <td>$200.00</td>\n",
       "      <td>Swipe Transaction</td>\n",
       "      <td>27092</td>\n",
       "      <td>Crown Point</td>\n",
       "      <td>IN</td>\n",
       "      <td>46307.0</td>\n",
       "      <td>4829</td>\n",
       "      <td>None</td>\n",
       "    </tr>\n",
       "    <tr>\n",
       "      <th>4</th>\n",
       "      <td>7475332</td>\n",
       "      <td>2010-01-01 00:06:00</td>\n",
       "      <td>848</td>\n",
       "      <td>3915</td>\n",
       "      <td>$46.41</td>\n",
       "      <td>Swipe Transaction</td>\n",
       "      <td>13051</td>\n",
       "      <td>Harwood</td>\n",
       "      <td>MD</td>\n",
       "      <td>20776.0</td>\n",
       "      <td>5813</td>\n",
       "      <td>None</td>\n",
       "    </tr>\n",
       "    <tr>\n",
       "      <th>...</th>\n",
       "      <td>...</td>\n",
       "      <td>...</td>\n",
       "      <td>...</td>\n",
       "      <td>...</td>\n",
       "      <td>...</td>\n",
       "      <td>...</td>\n",
       "      <td>...</td>\n",
       "      <td>...</td>\n",
       "      <td>...</td>\n",
       "      <td>...</td>\n",
       "      <td>...</td>\n",
       "      <td>...</td>\n",
       "    </tr>\n",
       "    <tr>\n",
       "      <th>13305910</th>\n",
       "      <td>23761868</td>\n",
       "      <td>2019-10-31 23:56:00</td>\n",
       "      <td>1718</td>\n",
       "      <td>2379</td>\n",
       "      <td>$1.11</td>\n",
       "      <td>Chip Transaction</td>\n",
       "      <td>86438</td>\n",
       "      <td>West Covina</td>\n",
       "      <td>CA</td>\n",
       "      <td>91792.0</td>\n",
       "      <td>5499</td>\n",
       "      <td>None</td>\n",
       "    </tr>\n",
       "    <tr>\n",
       "      <th>13305911</th>\n",
       "      <td>23761869</td>\n",
       "      <td>2019-10-31 23:56:00</td>\n",
       "      <td>1766</td>\n",
       "      <td>2066</td>\n",
       "      <td>$12.80</td>\n",
       "      <td>Online Transaction</td>\n",
       "      <td>39261</td>\n",
       "      <td>ONLINE</td>\n",
       "      <td>None</td>\n",
       "      <td>NaN</td>\n",
       "      <td>5815</td>\n",
       "      <td>None</td>\n",
       "    </tr>\n",
       "    <tr>\n",
       "      <th>13305912</th>\n",
       "      <td>23761870</td>\n",
       "      <td>2019-10-31 23:57:00</td>\n",
       "      <td>199</td>\n",
       "      <td>1031</td>\n",
       "      <td>$40.44</td>\n",
       "      <td>Swipe Transaction</td>\n",
       "      <td>2925</td>\n",
       "      <td>Allen</td>\n",
       "      <td>TX</td>\n",
       "      <td>75002.0</td>\n",
       "      <td>4900</td>\n",
       "      <td>None</td>\n",
       "    </tr>\n",
       "    <tr>\n",
       "      <th>13305913</th>\n",
       "      <td>23761873</td>\n",
       "      <td>2019-10-31 23:58:00</td>\n",
       "      <td>1986</td>\n",
       "      <td>5443</td>\n",
       "      <td>$4.00</td>\n",
       "      <td>Chip Transaction</td>\n",
       "      <td>46284</td>\n",
       "      <td>Daly City</td>\n",
       "      <td>CA</td>\n",
       "      <td>94014.0</td>\n",
       "      <td>5411</td>\n",
       "      <td>None</td>\n",
       "    </tr>\n",
       "    <tr>\n",
       "      <th>13305914</th>\n",
       "      <td>23761874</td>\n",
       "      <td>2019-10-31 23:59:00</td>\n",
       "      <td>489</td>\n",
       "      <td>5697</td>\n",
       "      <td>$12.88</td>\n",
       "      <td>Chip Transaction</td>\n",
       "      <td>24658</td>\n",
       "      <td>Greenbrier</td>\n",
       "      <td>TN</td>\n",
       "      <td>37073.0</td>\n",
       "      <td>5921</td>\n",
       "      <td>None</td>\n",
       "    </tr>\n",
       "  </tbody>\n",
       "</table>\n",
       "<p>13305915 rows × 12 columns</p>\n",
       "</div>"
      ],
      "text/plain": [
       "                id                date  client_id  card_id   amount  \\\n",
       "0          7475327 2010-01-01 00:01:00       1556     2972  $-77.00   \n",
       "1          7475328 2010-01-01 00:02:00        561     4575   $14.57   \n",
       "2          7475329 2010-01-01 00:02:00       1129      102   $80.00   \n",
       "3          7475331 2010-01-01 00:05:00        430     2860  $200.00   \n",
       "4          7475332 2010-01-01 00:06:00        848     3915   $46.41   \n",
       "...            ...                 ...        ...      ...      ...   \n",
       "13305910  23761868 2019-10-31 23:56:00       1718     2379    $1.11   \n",
       "13305911  23761869 2019-10-31 23:56:00       1766     2066   $12.80   \n",
       "13305912  23761870 2019-10-31 23:57:00        199     1031   $40.44   \n",
       "13305913  23761873 2019-10-31 23:58:00       1986     5443    $4.00   \n",
       "13305914  23761874 2019-10-31 23:59:00        489     5697   $12.88   \n",
       "\n",
       "                    use_chip  merchant_id merchant_city merchant_state  \\\n",
       "0          Swipe Transaction        59935        Beulah             ND   \n",
       "1          Swipe Transaction        67570    Bettendorf             IA   \n",
       "2          Swipe Transaction        27092         Vista             CA   \n",
       "3          Swipe Transaction        27092   Crown Point             IN   \n",
       "4          Swipe Transaction        13051       Harwood             MD   \n",
       "...                      ...          ...           ...            ...   \n",
       "13305910    Chip Transaction        86438   West Covina             CA   \n",
       "13305911  Online Transaction        39261        ONLINE           None   \n",
       "13305912   Swipe Transaction         2925         Allen             TX   \n",
       "13305913    Chip Transaction        46284     Daly City             CA   \n",
       "13305914    Chip Transaction        24658    Greenbrier             TN   \n",
       "\n",
       "              zip   mcc errors  \n",
       "0         58523.0  5499   None  \n",
       "1         52722.0  5311   None  \n",
       "2         92084.0  4829   None  \n",
       "3         46307.0  4829   None  \n",
       "4         20776.0  5813   None  \n",
       "...           ...   ...    ...  \n",
       "13305910  91792.0  5499   None  \n",
       "13305911      NaN  5815   None  \n",
       "13305912  75002.0  4900   None  \n",
       "13305913  94014.0  5411   None  \n",
       "13305914  37073.0  5921   None  \n",
       "\n",
       "[13305915 rows x 12 columns]"
      ]
     },
     "execution_count": 11,
     "metadata": {},
     "output_type": "execute_result"
    }
   ],
   "source": [
    "df_trans"
   ]
  },
  {
   "cell_type": "code",
   "execution_count": 12,
   "id": "69a3f5a7-4427-4ea5-8241-3f9ac0c3ab11",
   "metadata": {},
   "outputs": [
    {
     "name": "stdout",
     "output_type": "stream",
     "text": [
      "<class 'pandas.core.frame.DataFrame'>\n",
      "RangeIndex: 13305915 entries, 0 to 13305914\n",
      "Data columns (total 12 columns):\n",
      " #   Column          Dtype         \n",
      "---  ------          -----         \n",
      " 0   id              int64         \n",
      " 1   date            datetime64[ns]\n",
      " 2   client_id       int64         \n",
      " 3   card_id         int64         \n",
      " 4   amount          object        \n",
      " 5   use_chip        object        \n",
      " 6   merchant_id     int64         \n",
      " 7   merchant_city   object        \n",
      " 8   merchant_state  object        \n",
      " 9   zip             float64       \n",
      " 10  mcc             int64         \n",
      " 11  errors          object        \n",
      "dtypes: datetime64[ns](1), float64(1), int64(5), object(5)\n",
      "memory usage: 1.2+ GB\n"
     ]
    }
   ],
   "source": [
    "df_trans.info()"
   ]
  },
  {
   "cell_type": "markdown",
   "id": "b070e3d2-1b7e-42ee-9225-4adf333abf97",
   "metadata": {},
   "source": [
    "## 📊 Missing Values Summary\n"
   ]
  },
  {
   "cell_type": "code",
   "execution_count": 13,
   "id": "12448144-f011-4dd1-a303-6bf148de4596",
   "metadata": {},
   "outputs": [
    {
     "data": {
      "text/plain": [
       "id                0.000000\n",
       "date              0.000000\n",
       "client_id         0.000000\n",
       "card_id           0.000000\n",
       "amount            0.000000\n",
       "use_chip          0.000000\n",
       "merchant_id       0.000000\n",
       "merchant_city     0.000000\n",
       "merchant_state    0.117519\n",
       "zip               0.124208\n",
       "mcc               0.000000\n",
       "errors            0.984113\n",
       "dtype: float64"
      ]
     },
     "execution_count": 13,
     "metadata": {},
     "output_type": "execute_result"
    }
   ],
   "source": [
    "df_trans.isna().mean()"
   ]
  },
  {
   "cell_type": "markdown",
   "id": "23558418-ebcd-4fb3-821b-844f7431c1f1",
   "metadata": {},
   "source": [
    "## 📊 handle transaction dataset to merge\n"
   ]
  },
  {
   "cell_type": "code",
   "execution_count": 14,
   "id": "7d56adc3-5b82-4317-8a03-e1d8340d1ed3",
   "metadata": {},
   "outputs": [],
   "source": [
    " df_trans.drop(columns=['errors','zip','merchant_state'],inplace=True)\n"
   ]
  },
  {
   "cell_type": "code",
   "execution_count": 15,
   "id": "bce1bcbb-27ef-45c7-9546-c11b97540bcb",
   "metadata": {},
   "outputs": [
    {
     "data": {
      "text/html": [
       "<div>\n",
       "<style scoped>\n",
       "    .dataframe tbody tr th:only-of-type {\n",
       "        vertical-align: middle;\n",
       "    }\n",
       "\n",
       "    .dataframe tbody tr th {\n",
       "        vertical-align: top;\n",
       "    }\n",
       "\n",
       "    .dataframe thead th {\n",
       "        text-align: right;\n",
       "    }\n",
       "</style>\n",
       "<table border=\"1\" class=\"dataframe\">\n",
       "  <thead>\n",
       "    <tr style=\"text-align: right;\">\n",
       "      <th></th>\n",
       "      <th>id</th>\n",
       "      <th>date</th>\n",
       "      <th>client_id</th>\n",
       "      <th>card_id</th>\n",
       "      <th>amount</th>\n",
       "      <th>use_chip</th>\n",
       "      <th>merchant_id</th>\n",
       "      <th>merchant_city</th>\n",
       "      <th>mcc</th>\n",
       "    </tr>\n",
       "  </thead>\n",
       "  <tbody>\n",
       "    <tr>\n",
       "      <th>0</th>\n",
       "      <td>7475327</td>\n",
       "      <td>2010-01-01 00:01:00</td>\n",
       "      <td>1556</td>\n",
       "      <td>2972</td>\n",
       "      <td>$-77.00</td>\n",
       "      <td>Swipe Transaction</td>\n",
       "      <td>59935</td>\n",
       "      <td>Beulah</td>\n",
       "      <td>5499</td>\n",
       "    </tr>\n",
       "    <tr>\n",
       "      <th>1</th>\n",
       "      <td>7475328</td>\n",
       "      <td>2010-01-01 00:02:00</td>\n",
       "      <td>561</td>\n",
       "      <td>4575</td>\n",
       "      <td>$14.57</td>\n",
       "      <td>Swipe Transaction</td>\n",
       "      <td>67570</td>\n",
       "      <td>Bettendorf</td>\n",
       "      <td>5311</td>\n",
       "    </tr>\n",
       "    <tr>\n",
       "      <th>2</th>\n",
       "      <td>7475329</td>\n",
       "      <td>2010-01-01 00:02:00</td>\n",
       "      <td>1129</td>\n",
       "      <td>102</td>\n",
       "      <td>$80.00</td>\n",
       "      <td>Swipe Transaction</td>\n",
       "      <td>27092</td>\n",
       "      <td>Vista</td>\n",
       "      <td>4829</td>\n",
       "    </tr>\n",
       "    <tr>\n",
       "      <th>3</th>\n",
       "      <td>7475331</td>\n",
       "      <td>2010-01-01 00:05:00</td>\n",
       "      <td>430</td>\n",
       "      <td>2860</td>\n",
       "      <td>$200.00</td>\n",
       "      <td>Swipe Transaction</td>\n",
       "      <td>27092</td>\n",
       "      <td>Crown Point</td>\n",
       "      <td>4829</td>\n",
       "    </tr>\n",
       "    <tr>\n",
       "      <th>4</th>\n",
       "      <td>7475332</td>\n",
       "      <td>2010-01-01 00:06:00</td>\n",
       "      <td>848</td>\n",
       "      <td>3915</td>\n",
       "      <td>$46.41</td>\n",
       "      <td>Swipe Transaction</td>\n",
       "      <td>13051</td>\n",
       "      <td>Harwood</td>\n",
       "      <td>5813</td>\n",
       "    </tr>\n",
       "    <tr>\n",
       "      <th>...</th>\n",
       "      <td>...</td>\n",
       "      <td>...</td>\n",
       "      <td>...</td>\n",
       "      <td>...</td>\n",
       "      <td>...</td>\n",
       "      <td>...</td>\n",
       "      <td>...</td>\n",
       "      <td>...</td>\n",
       "      <td>...</td>\n",
       "    </tr>\n",
       "    <tr>\n",
       "      <th>13305910</th>\n",
       "      <td>23761868</td>\n",
       "      <td>2019-10-31 23:56:00</td>\n",
       "      <td>1718</td>\n",
       "      <td>2379</td>\n",
       "      <td>$1.11</td>\n",
       "      <td>Chip Transaction</td>\n",
       "      <td>86438</td>\n",
       "      <td>West Covina</td>\n",
       "      <td>5499</td>\n",
       "    </tr>\n",
       "    <tr>\n",
       "      <th>13305911</th>\n",
       "      <td>23761869</td>\n",
       "      <td>2019-10-31 23:56:00</td>\n",
       "      <td>1766</td>\n",
       "      <td>2066</td>\n",
       "      <td>$12.80</td>\n",
       "      <td>Online Transaction</td>\n",
       "      <td>39261</td>\n",
       "      <td>ONLINE</td>\n",
       "      <td>5815</td>\n",
       "    </tr>\n",
       "    <tr>\n",
       "      <th>13305912</th>\n",
       "      <td>23761870</td>\n",
       "      <td>2019-10-31 23:57:00</td>\n",
       "      <td>199</td>\n",
       "      <td>1031</td>\n",
       "      <td>$40.44</td>\n",
       "      <td>Swipe Transaction</td>\n",
       "      <td>2925</td>\n",
       "      <td>Allen</td>\n",
       "      <td>4900</td>\n",
       "    </tr>\n",
       "    <tr>\n",
       "      <th>13305913</th>\n",
       "      <td>23761873</td>\n",
       "      <td>2019-10-31 23:58:00</td>\n",
       "      <td>1986</td>\n",
       "      <td>5443</td>\n",
       "      <td>$4.00</td>\n",
       "      <td>Chip Transaction</td>\n",
       "      <td>46284</td>\n",
       "      <td>Daly City</td>\n",
       "      <td>5411</td>\n",
       "    </tr>\n",
       "    <tr>\n",
       "      <th>13305914</th>\n",
       "      <td>23761874</td>\n",
       "      <td>2019-10-31 23:59:00</td>\n",
       "      <td>489</td>\n",
       "      <td>5697</td>\n",
       "      <td>$12.88</td>\n",
       "      <td>Chip Transaction</td>\n",
       "      <td>24658</td>\n",
       "      <td>Greenbrier</td>\n",
       "      <td>5921</td>\n",
       "    </tr>\n",
       "  </tbody>\n",
       "</table>\n",
       "<p>13305915 rows × 9 columns</p>\n",
       "</div>"
      ],
      "text/plain": [
       "                id                date  client_id  card_id   amount  \\\n",
       "0          7475327 2010-01-01 00:01:00       1556     2972  $-77.00   \n",
       "1          7475328 2010-01-01 00:02:00        561     4575   $14.57   \n",
       "2          7475329 2010-01-01 00:02:00       1129      102   $80.00   \n",
       "3          7475331 2010-01-01 00:05:00        430     2860  $200.00   \n",
       "4          7475332 2010-01-01 00:06:00        848     3915   $46.41   \n",
       "...            ...                 ...        ...      ...      ...   \n",
       "13305910  23761868 2019-10-31 23:56:00       1718     2379    $1.11   \n",
       "13305911  23761869 2019-10-31 23:56:00       1766     2066   $12.80   \n",
       "13305912  23761870 2019-10-31 23:57:00        199     1031   $40.44   \n",
       "13305913  23761873 2019-10-31 23:58:00       1986     5443    $4.00   \n",
       "13305914  23761874 2019-10-31 23:59:00        489     5697   $12.88   \n",
       "\n",
       "                    use_chip  merchant_id merchant_city   mcc  \n",
       "0          Swipe Transaction        59935        Beulah  5499  \n",
       "1          Swipe Transaction        67570    Bettendorf  5311  \n",
       "2          Swipe Transaction        27092         Vista  4829  \n",
       "3          Swipe Transaction        27092   Crown Point  4829  \n",
       "4          Swipe Transaction        13051       Harwood  5813  \n",
       "...                      ...          ...           ...   ...  \n",
       "13305910    Chip Transaction        86438   West Covina  5499  \n",
       "13305911  Online Transaction        39261        ONLINE  5815  \n",
       "13305912   Swipe Transaction         2925         Allen  4900  \n",
       "13305913    Chip Transaction        46284     Daly City  5411  \n",
       "13305914    Chip Transaction        24658    Greenbrier  5921  \n",
       "\n",
       "[13305915 rows x 9 columns]"
      ]
     },
     "execution_count": 15,
     "metadata": {},
     "output_type": "execute_result"
    }
   ],
   "source": [
    "df_trans"
   ]
  },
  {
   "cell_type": "code",
   "execution_count": 16,
   "id": "9b791091-0069-44be-bc90-d4a2a9d6d52e",
   "metadata": {},
   "outputs": [],
   "source": [
    "df_trans['amount'] = df_trans['amount'].replace('[\\$,]', '', regex=True).astype('float32')\n"
   ]
  },
  {
   "cell_type": "code",
   "execution_count": 17,
   "id": "cc5e3efe-a7f1-4cf4-be0a-59f977336c05",
   "metadata": {},
   "outputs": [],
   "source": [
    "for col in ['id', 'client_id', 'card_id', 'merchant_id']:\n",
    "    df_trans[col] = df_trans[col].astype('int32')\n",
    "\n",
    "df_trans['mcc'] = df_trans['mcc'].astype('int16')"
   ]
  },
  {
   "cell_type": "markdown",
   "id": "ebb88e68-4378-4c82-a37c-8667c5bcc036",
   "metadata": {},
   "source": [
    "## ℹ️ Datasets Information\n"
   ]
  },
  {
   "cell_type": "code",
   "execution_count": 18,
   "id": "4fc571f6-6e3e-43f2-bd57-b640b94daf1c",
   "metadata": {},
   "outputs": [
    {
     "name": "stdout",
     "output_type": "stream",
     "text": [
      "<class 'pandas.core.frame.DataFrame'>\n",
      "RangeIndex: 6146 entries, 0 to 6145\n",
      "Data columns (total 13 columns):\n",
      " #   Column                 Non-Null Count  Dtype  \n",
      "---  ------                 --------------  -----  \n",
      " 0   id                     6146 non-null   int64  \n",
      " 1   client_id              6146 non-null   int64  \n",
      " 2   card_brand             6146 non-null   object \n",
      " 3   card_type              6146 non-null   object \n",
      " 4   card_number            6146 non-null   int64  \n",
      " 5   expires                6146 non-null   object \n",
      " 6   cvv                    6146 non-null   int64  \n",
      " 7   has_chip               6146 non-null   bool   \n",
      " 8   num_cards_issued       6146 non-null   int64  \n",
      " 9   credit_limit           6146 non-null   float64\n",
      " 10  acct_open_date         6146 non-null   object \n",
      " 11  year_pin_last_changed  6146 non-null   int64  \n",
      " 12  card_on_dark_web       6146 non-null   object \n",
      "dtypes: bool(1), float64(1), int64(6), object(5)\n",
      "memory usage: 582.3+ KB\n"
     ]
    }
   ],
   "source": [
    "df_cards.info()"
   ]
  },
  {
   "cell_type": "code",
   "execution_count": 19,
   "id": "8d9afff7-8dfd-47fd-a1e1-7337df8c97b8",
   "metadata": {},
   "outputs": [
    {
     "name": "stdout",
     "output_type": "stream",
     "text": [
      "<class 'pandas.core.frame.DataFrame'>\n",
      "RangeIndex: 2000 entries, 0 to 1999\n",
      "Data columns (total 14 columns):\n",
      " #   Column             Non-Null Count  Dtype  \n",
      "---  ------             --------------  -----  \n",
      " 0   id                 2000 non-null   int64  \n",
      " 1   current_age        2000 non-null   int64  \n",
      " 2   retirement_age     2000 non-null   int64  \n",
      " 3   birth_year         2000 non-null   int64  \n",
      " 4   birth_month        2000 non-null   int64  \n",
      " 5   gender             2000 non-null   object \n",
      " 6   address            2000 non-null   object \n",
      " 7   latitude           2000 non-null   float64\n",
      " 8   longitude          2000 non-null   float64\n",
      " 9   per_capita_income  2000 non-null   float64\n",
      " 10  yearly_income      2000 non-null   float64\n",
      " 11  total_debt         2000 non-null   float64\n",
      " 12  credit_score       2000 non-null   int64  \n",
      " 13  num_credit_cards   2000 non-null   int64  \n",
      "dtypes: float64(5), int64(7), object(2)\n",
      "memory usage: 218.9+ KB\n"
     ]
    }
   ],
   "source": [
    "df_users.info()"
   ]
  },
  {
   "cell_type": "code",
   "execution_count": 20,
   "id": "0d3a0229-2674-4ad2-9203-0ec1d88324ae",
   "metadata": {},
   "outputs": [
    {
     "name": "stdout",
     "output_type": "stream",
     "text": [
      "<class 'pandas.core.frame.DataFrame'>\n",
      "RangeIndex: 13305915 entries, 0 to 13305914\n",
      "Data columns (total 9 columns):\n",
      " #   Column         Dtype         \n",
      "---  ------         -----         \n",
      " 0   id             int32         \n",
      " 1   date           datetime64[ns]\n",
      " 2   client_id      int32         \n",
      " 3   card_id        int32         \n",
      " 4   amount         float32       \n",
      " 5   use_chip       object        \n",
      " 6   merchant_id    int32         \n",
      " 7   merchant_city  object        \n",
      " 8   mcc            int16         \n",
      "dtypes: datetime64[ns](1), float32(1), int16(1), int32(4), object(2)\n",
      "memory usage: 583.7+ MB\n"
     ]
    }
   ],
   "source": [
    "df_trans.info()"
   ]
  },
  {
   "cell_type": "markdown",
   "id": "62e4b2a5-9bd0-4928-a4d8-626535a7593c",
   "metadata": {},
   "source": [
    "## 🔁 Checking for Duplicates\n"
   ]
  },
  {
   "cell_type": "code",
   "execution_count": 21,
   "id": "e2204fd3-f3e3-4458-9c7b-adb5981fa657",
   "metadata": {},
   "outputs": [
    {
     "data": {
      "text/plain": [
       "np.int64(0)"
      ]
     },
     "execution_count": 21,
     "metadata": {},
     "output_type": "execute_result"
    }
   ],
   "source": [
    "df_users.duplicated().sum()"
   ]
  },
  {
   "cell_type": "code",
   "execution_count": 22,
   "id": "a62e3872-265d-4986-af8c-399248fa3709",
   "metadata": {},
   "outputs": [
    {
     "data": {
      "text/plain": [
       "np.int64(0)"
      ]
     },
     "execution_count": 22,
     "metadata": {},
     "output_type": "execute_result"
    }
   ],
   "source": [
    "df_cards.duplicated().sum()"
   ]
  },
  {
   "cell_type": "markdown",
   "id": "bfbfe2ae-2738-4b14-981c-60689b2e1667",
   "metadata": {},
   "source": [
    "##  **🔗 Merge Cards with Users on client_id**\n"
   ]
  },
  {
   "cell_type": "code",
   "execution_count": 60,
   "id": "7941da8e-6937-4fa5-8a64-c0b136dba3e7",
   "metadata": {},
   "outputs": [],
   "source": [
    "df_cards_users = df_cards.merge(\n",
    "    df_users,\n",
    "    left_on='client_id',   # client_id in Cards\n",
    "    right_on='id',         # id in Users\n",
    "    how='left',\n",
    "    suffixes=('_card', '_user')\n",
    ")"
   ]
  },
  {
   "cell_type": "code",
   "execution_count": 61,
   "id": "379b0bd9-6b52-4de8-9b65-f5d326369b6f",
   "metadata": {},
   "outputs": [
    {
     "name": "stdout",
     "output_type": "stream",
     "text": [
      "<class 'pandas.core.frame.DataFrame'>\n",
      "RangeIndex: 6146 entries, 0 to 6145\n",
      "Data columns (total 27 columns):\n",
      " #   Column                 Non-Null Count  Dtype  \n",
      "---  ------                 --------------  -----  \n",
      " 0   id_card                6146 non-null   int64  \n",
      " 1   client_id              6146 non-null   int64  \n",
      " 2   card_brand             6146 non-null   object \n",
      " 3   card_type              6146 non-null   object \n",
      " 4   card_number            6146 non-null   int64  \n",
      " 5   expires                6146 non-null   object \n",
      " 6   cvv                    6146 non-null   int64  \n",
      " 7   has_chip               6146 non-null   bool   \n",
      " 8   num_cards_issued       6146 non-null   int64  \n",
      " 9   credit_limit           6146 non-null   float64\n",
      " 10  acct_open_date         6146 non-null   object \n",
      " 11  year_pin_last_changed  6146 non-null   int64  \n",
      " 12  card_on_dark_web       6146 non-null   object \n",
      " 13  id_user                6146 non-null   int64  \n",
      " 14  current_age            6146 non-null   int64  \n",
      " 15  retirement_age         6146 non-null   int64  \n",
      " 16  birth_year             6146 non-null   int64  \n",
      " 17  birth_month            6146 non-null   int64  \n",
      " 18  gender                 6146 non-null   object \n",
      " 19  address                6146 non-null   object \n",
      " 20  latitude               6146 non-null   float64\n",
      " 21  longitude              6146 non-null   float64\n",
      " 22  per_capita_income      6146 non-null   float64\n",
      " 23  yearly_income          6146 non-null   float64\n",
      " 24  total_debt             6146 non-null   float64\n",
      " 25  credit_score           6146 non-null   int64  \n",
      " 26  num_credit_cards       6146 non-null   int64  \n",
      "dtypes: bool(1), float64(6), int64(13), object(7)\n",
      "memory usage: 1.2+ MB\n"
     ]
    }
   ],
   "source": [
    "df_cards_users.info()"
   ]
  },
  {
   "cell_type": "markdown",
   "id": "b80fbb65-bef6-46c2-85c5-95fce38b6e44",
   "metadata": {},
   "source": [
    "## 📈 Summary Statistics\n"
   ]
  },
  {
   "cell_type": "code",
   "execution_count": 64,
   "id": "bed60b76-0e5c-431d-841c-3fd545855f6b",
   "metadata": {},
   "outputs": [
    {
     "data": {
      "text/html": [
       "<div>\n",
       "<style scoped>\n",
       "    .dataframe tbody tr th:only-of-type {\n",
       "        vertical-align: middle;\n",
       "    }\n",
       "\n",
       "    .dataframe tbody tr th {\n",
       "        vertical-align: top;\n",
       "    }\n",
       "\n",
       "    .dataframe thead th {\n",
       "        text-align: right;\n",
       "    }\n",
       "</style>\n",
       "<table border=\"1\" class=\"dataframe\">\n",
       "  <thead>\n",
       "    <tr style=\"text-align: right;\">\n",
       "      <th></th>\n",
       "      <th>id_card</th>\n",
       "      <th>client_id</th>\n",
       "      <th>card_number</th>\n",
       "      <th>cvv</th>\n",
       "      <th>num_cards_issued</th>\n",
       "      <th>credit_limit</th>\n",
       "      <th>year_pin_last_changed</th>\n",
       "      <th>id_user</th>\n",
       "      <th>current_age</th>\n",
       "      <th>retirement_age</th>\n",
       "      <th>birth_year</th>\n",
       "      <th>birth_month</th>\n",
       "      <th>latitude</th>\n",
       "      <th>longitude</th>\n",
       "      <th>per_capita_income</th>\n",
       "      <th>yearly_income</th>\n",
       "      <th>total_debt</th>\n",
       "      <th>num_credit_cards</th>\n",
       "    </tr>\n",
       "  </thead>\n",
       "  <tbody>\n",
       "    <tr>\n",
       "      <th>count</th>\n",
       "      <td>6146.000000</td>\n",
       "      <td>6146.000000</td>\n",
       "      <td>6.146000e+03</td>\n",
       "      <td>6146.000000</td>\n",
       "      <td>6146.000000</td>\n",
       "      <td>6146.000000</td>\n",
       "      <td>6146.000000</td>\n",
       "      <td>6146.000000</td>\n",
       "      <td>6146.000000</td>\n",
       "      <td>6146.000000</td>\n",
       "      <td>6146.000000</td>\n",
       "      <td>6146.000000</td>\n",
       "      <td>6146.000000</td>\n",
       "      <td>6146.000000</td>\n",
       "      <td>6146.000000</td>\n",
       "      <td>6146.000000</td>\n",
       "      <td>6146.000000</td>\n",
       "      <td>6146.000000</td>\n",
       "    </tr>\n",
       "    <tr>\n",
       "      <th>mean</th>\n",
       "      <td>3072.500000</td>\n",
       "      <td>994.939636</td>\n",
       "      <td>4.820426e+15</td>\n",
       "      <td>506.220794</td>\n",
       "      <td>1.503091</td>\n",
       "      <td>14347.493980</td>\n",
       "      <td>2013.436707</td>\n",
       "      <td>994.939636</td>\n",
       "      <td>50.139766</td>\n",
       "      <td>66.544582</td>\n",
       "      <td>1969.050439</td>\n",
       "      <td>6.467296</td>\n",
       "      <td>37.314732</td>\n",
       "      <td>-91.801489</td>\n",
       "      <td>23254.139440</td>\n",
       "      <td>45313.309795</td>\n",
       "      <td>57644.721445</td>\n",
       "      <td>3.945005</td>\n",
       "    </tr>\n",
       "    <tr>\n",
       "      <th>std</th>\n",
       "      <td>1774.341709</td>\n",
       "      <td>578.614626</td>\n",
       "      <td>1.328582e+15</td>\n",
       "      <td>289.431123</td>\n",
       "      <td>0.519191</td>\n",
       "      <td>12014.463884</td>\n",
       "      <td>4.270699</td>\n",
       "      <td>578.614626</td>\n",
       "      <td>18.975960</td>\n",
       "      <td>3.455030</td>\n",
       "      <td>18.969825</td>\n",
       "      <td>3.547927</td>\n",
       "      <td>5.148899</td>\n",
       "      <td>16.454556</td>\n",
       "      <td>11512.323216</td>\n",
       "      <td>23314.172216</td>\n",
       "      <td>51633.885249</td>\n",
       "      <td>1.668031</td>\n",
       "    </tr>\n",
       "    <tr>\n",
       "      <th>min</th>\n",
       "      <td>0.000000</td>\n",
       "      <td>0.000000</td>\n",
       "      <td>3.001055e+14</td>\n",
       "      <td>0.000000</td>\n",
       "      <td>1.000000</td>\n",
       "      <td>0.000000</td>\n",
       "      <td>2002.000000</td>\n",
       "      <td>0.000000</td>\n",
       "      <td>18.000000</td>\n",
       "      <td>50.000000</td>\n",
       "      <td>1918.000000</td>\n",
       "      <td>1.000000</td>\n",
       "      <td>20.879999</td>\n",
       "      <td>-159.410004</td>\n",
       "      <td>0.000000</td>\n",
       "      <td>1.000000</td>\n",
       "      <td>0.000000</td>\n",
       "      <td>1.000000</td>\n",
       "    </tr>\n",
       "    <tr>\n",
       "      <th>25%</th>\n",
       "      <td>1536.250000</td>\n",
       "      <td>492.250000</td>\n",
       "      <td>4.486365e+15</td>\n",
       "      <td>257.000000</td>\n",
       "      <td>1.000000</td>\n",
       "      <td>7042.750000</td>\n",
       "      <td>2010.000000</td>\n",
       "      <td>492.250000</td>\n",
       "      <td>35.000000</td>\n",
       "      <td>65.000000</td>\n",
       "      <td>1957.000000</td>\n",
       "      <td>3.000000</td>\n",
       "      <td>33.820000</td>\n",
       "      <td>-97.510002</td>\n",
       "      <td>16844.000000</td>\n",
       "      <td>32295.000000</td>\n",
       "      <td>16803.000000</td>\n",
       "      <td>3.000000</td>\n",
       "    </tr>\n",
       "    <tr>\n",
       "      <th>50%</th>\n",
       "      <td>3072.500000</td>\n",
       "      <td>992.000000</td>\n",
       "      <td>5.108957e+15</td>\n",
       "      <td>516.500000</td>\n",
       "      <td>1.000000</td>\n",
       "      <td>12592.500000</td>\n",
       "      <td>2013.000000</td>\n",
       "      <td>992.000000</td>\n",
       "      <td>50.000000</td>\n",
       "      <td>67.000000</td>\n",
       "      <td>1970.000000</td>\n",
       "      <td>7.000000</td>\n",
       "      <td>38.160000</td>\n",
       "      <td>-86.795002</td>\n",
       "      <td>20646.500000</td>\n",
       "      <td>40251.000000</td>\n",
       "      <td>51529.500000</td>\n",
       "      <td>4.000000</td>\n",
       "    </tr>\n",
       "    <tr>\n",
       "      <th>75%</th>\n",
       "      <td>4608.750000</td>\n",
       "      <td>1495.000000</td>\n",
       "      <td>5.585237e+15</td>\n",
       "      <td>756.000000</td>\n",
       "      <td>2.000000</td>\n",
       "      <td>19156.500000</td>\n",
       "      <td>2017.000000</td>\n",
       "      <td>1495.000000</td>\n",
       "      <td>63.000000</td>\n",
       "      <td>69.000000</td>\n",
       "      <td>1984.000000</td>\n",
       "      <td>10.000000</td>\n",
       "      <td>41.130001</td>\n",
       "      <td>-80.129997</td>\n",
       "      <td>26369.000000</td>\n",
       "      <td>52531.500000</td>\n",
       "      <td>84494.500000</td>\n",
       "      <td>5.000000</td>\n",
       "    </tr>\n",
       "    <tr>\n",
       "      <th>max</th>\n",
       "      <td>6145.000000</td>\n",
       "      <td>1999.000000</td>\n",
       "      <td>6.997197e+15</td>\n",
       "      <td>999.000000</td>\n",
       "      <td>3.000000</td>\n",
       "      <td>151223.000000</td>\n",
       "      <td>2020.000000</td>\n",
       "      <td>1999.000000</td>\n",
       "      <td>101.000000</td>\n",
       "      <td>79.000000</td>\n",
       "      <td>2002.000000</td>\n",
       "      <td>12.000000</td>\n",
       "      <td>61.200001</td>\n",
       "      <td>-68.669998</td>\n",
       "      <td>163145.000000</td>\n",
       "      <td>307018.000000</td>\n",
       "      <td>516263.000000</td>\n",
       "      <td>9.000000</td>\n",
       "    </tr>\n",
       "  </tbody>\n",
       "</table>\n",
       "</div>"
      ],
      "text/plain": [
       "           id_card    client_id   card_number          cvv  num_cards_issued  \\\n",
       "count  6146.000000  6146.000000  6.146000e+03  6146.000000       6146.000000   \n",
       "mean   3072.500000   994.939636  4.820426e+15   506.220794          1.503091   \n",
       "std    1774.341709   578.614626  1.328582e+15   289.431123          0.519191   \n",
       "min       0.000000     0.000000  3.001055e+14     0.000000          1.000000   \n",
       "25%    1536.250000   492.250000  4.486365e+15   257.000000          1.000000   \n",
       "50%    3072.500000   992.000000  5.108957e+15   516.500000          1.000000   \n",
       "75%    4608.750000  1495.000000  5.585237e+15   756.000000          2.000000   \n",
       "max    6145.000000  1999.000000  6.997197e+15   999.000000          3.000000   \n",
       "\n",
       "        credit_limit  year_pin_last_changed      id_user  current_age  \\\n",
       "count    6146.000000            6146.000000  6146.000000  6146.000000   \n",
       "mean    14347.493980            2013.436707   994.939636    50.139766   \n",
       "std     12014.463884               4.270699   578.614626    18.975960   \n",
       "min         0.000000            2002.000000     0.000000    18.000000   \n",
       "25%      7042.750000            2010.000000   492.250000    35.000000   \n",
       "50%     12592.500000            2013.000000   992.000000    50.000000   \n",
       "75%     19156.500000            2017.000000  1495.000000    63.000000   \n",
       "max    151223.000000            2020.000000  1999.000000   101.000000   \n",
       "\n",
       "       retirement_age   birth_year  birth_month     latitude    longitude  \\\n",
       "count     6146.000000  6146.000000  6146.000000  6146.000000  6146.000000   \n",
       "mean        66.544582  1969.050439     6.467296    37.314732   -91.801489   \n",
       "std          3.455030    18.969825     3.547927     5.148899    16.454556   \n",
       "min         50.000000  1918.000000     1.000000    20.879999  -159.410004   \n",
       "25%         65.000000  1957.000000     3.000000    33.820000   -97.510002   \n",
       "50%         67.000000  1970.000000     7.000000    38.160000   -86.795002   \n",
       "75%         69.000000  1984.000000    10.000000    41.130001   -80.129997   \n",
       "max         79.000000  2002.000000    12.000000    61.200001   -68.669998   \n",
       "\n",
       "       per_capita_income  yearly_income     total_debt  num_credit_cards  \n",
       "count        6146.000000    6146.000000    6146.000000       6146.000000  \n",
       "mean        23254.139440   45313.309795   57644.721445          3.945005  \n",
       "std         11512.323216   23314.172216   51633.885249          1.668031  \n",
       "min             0.000000       1.000000       0.000000          1.000000  \n",
       "25%         16844.000000   32295.000000   16803.000000          3.000000  \n",
       "50%         20646.500000   40251.000000   51529.500000          4.000000  \n",
       "75%         26369.000000   52531.500000   84494.500000          5.000000  \n",
       "max        163145.000000  307018.000000  516263.000000          9.000000  "
      ]
     },
     "execution_count": 64,
     "metadata": {},
     "output_type": "execute_result"
    }
   ],
   "source": [
    "df_cards_users.describe()"
   ]
  },
  {
   "cell_type": "markdown",
   "id": "917c4b30-1853-454e-87cf-91dc726363bc",
   "metadata": {},
   "source": [
    "## **📂 Read JSON Files and Merge Transaction with MCC and Fraud**\n"
   ]
  },
  {
   "cell_type": "code",
   "execution_count": 25,
   "id": "ac2bae11-c412-469d-b2a6-b865b5bd7d34",
   "metadata": {},
   "outputs": [
    {
     "data": {
      "text/html": [
       "<div>\n",
       "<style scoped>\n",
       "    .dataframe tbody tr th:only-of-type {\n",
       "        vertical-align: middle;\n",
       "    }\n",
       "\n",
       "    .dataframe tbody tr th {\n",
       "        vertical-align: top;\n",
       "    }\n",
       "\n",
       "    .dataframe thead th {\n",
       "        text-align: right;\n",
       "    }\n",
       "</style>\n",
       "<table border=\"1\" class=\"dataframe\">\n",
       "  <thead>\n",
       "    <tr style=\"text-align: right;\">\n",
       "      <th></th>\n",
       "      <th>mcc</th>\n",
       "      <th>Description</th>\n",
       "    </tr>\n",
       "  </thead>\n",
       "  <tbody>\n",
       "    <tr>\n",
       "      <th>0</th>\n",
       "      <td>5812</td>\n",
       "      <td>Eating Places and Restaurants</td>\n",
       "    </tr>\n",
       "    <tr>\n",
       "      <th>1</th>\n",
       "      <td>5541</td>\n",
       "      <td>Service Stations</td>\n",
       "    </tr>\n",
       "    <tr>\n",
       "      <th>2</th>\n",
       "      <td>7996</td>\n",
       "      <td>Amusement Parks, Carnivals, Circuses</td>\n",
       "    </tr>\n",
       "    <tr>\n",
       "      <th>3</th>\n",
       "      <td>5411</td>\n",
       "      <td>Grocery Stores, Supermarkets</td>\n",
       "    </tr>\n",
       "    <tr>\n",
       "      <th>4</th>\n",
       "      <td>4784</td>\n",
       "      <td>Tolls and Bridge Fees</td>\n",
       "    </tr>\n",
       "    <tr>\n",
       "      <th>...</th>\n",
       "      <td>...</td>\n",
       "      <td>...</td>\n",
       "    </tr>\n",
       "    <tr>\n",
       "      <th>104</th>\n",
       "      <td>7549</td>\n",
       "      <td>Towing Services</td>\n",
       "    </tr>\n",
       "    <tr>\n",
       "      <th>105</th>\n",
       "      <td>5941</td>\n",
       "      <td>Sporting Goods Stores</td>\n",
       "    </tr>\n",
       "    <tr>\n",
       "      <th>106</th>\n",
       "      <td>5722</td>\n",
       "      <td>Household Appliance Stores</td>\n",
       "    </tr>\n",
       "    <tr>\n",
       "      <th>107</th>\n",
       "      <td>3009</td>\n",
       "      <td>Fabricated Structural Metal Products</td>\n",
       "    </tr>\n",
       "    <tr>\n",
       "      <th>108</th>\n",
       "      <td>5733</td>\n",
       "      <td>Music Stores - Musical Instruments</td>\n",
       "    </tr>\n",
       "  </tbody>\n",
       "</table>\n",
       "<p>109 rows × 2 columns</p>\n",
       "</div>"
      ],
      "text/plain": [
       "      mcc                           Description\n",
       "0    5812         Eating Places and Restaurants\n",
       "1    5541                      Service Stations\n",
       "2    7996  Amusement Parks, Carnivals, Circuses\n",
       "3    5411          Grocery Stores, Supermarkets\n",
       "4    4784                 Tolls and Bridge Fees\n",
       "..    ...                                   ...\n",
       "104  7549                       Towing Services\n",
       "105  5941                 Sporting Goods Stores\n",
       "106  5722            Household Appliance Stores\n",
       "107  3009  Fabricated Structural Metal Products\n",
       "108  5733    Music Stores - Musical Instruments\n",
       "\n",
       "[109 rows x 2 columns]"
      ]
     },
     "execution_count": 25,
     "metadata": {},
     "output_type": "execute_result"
    }
   ],
   "source": [
    "import json\n",
    "\n",
    "# Open and load the JSON file\n",
    "with open(r\"D:\\Asmaa\\archive\\mcc_codes.json\", 'r') as file:\n",
    "    data = json.load(file)\n",
    "\n",
    "df_mcc_codes = pd.DataFrame(list(data.items()), columns=['mcc', 'Description'])\n",
    "\n",
    "df_mcc_codes\n"
   ]
  },
  {
   "cell_type": "code",
   "execution_count": 26,
   "id": "90276a15-e8bc-450d-b593-e3650f8fac5d",
   "metadata": {},
   "outputs": [
    {
     "name": "stdout",
     "output_type": "stream",
     "text": [
      "<class 'pandas.core.frame.DataFrame'>\n",
      "RangeIndex: 109 entries, 0 to 108\n",
      "Data columns (total 2 columns):\n",
      " #   Column       Non-Null Count  Dtype \n",
      "---  ------       --------------  ----- \n",
      " 0   mcc          109 non-null    object\n",
      " 1   Description  109 non-null    object\n",
      "dtypes: object(2)\n",
      "memory usage: 1.8+ KB\n"
     ]
    }
   ],
   "source": [
    "df_mcc_codes.info()"
   ]
  },
  {
   "cell_type": "code",
   "execution_count": 27,
   "id": "e16d5209-8690-4cfb-a15b-9f3a46595211",
   "metadata": {},
   "outputs": [],
   "source": [
    "df_mcc_codes['mcc'] = df_mcc_codes['mcc'].astype(int)\n"
   ]
  },
  {
   "cell_type": "code",
   "execution_count": 28,
   "id": "6d0e8716-af52-4b6d-95a9-f1707cee8ab6",
   "metadata": {},
   "outputs": [],
   "source": [
    "# Merge Transactions with MCC codes\n",
    "df_trans_mcc = df_trans.merge(df_mcc_codes, on='mcc', how='left')\n"
   ]
  },
  {
   "cell_type": "code",
   "execution_count": 29,
   "id": "25edc56e-88c8-4fbc-92e7-ceffd18cb44a",
   "metadata": {},
   "outputs": [
    {
     "data": {
      "text/plain": [
       "id               0\n",
       "date             0\n",
       "client_id        0\n",
       "card_id          0\n",
       "amount           0\n",
       "use_chip         0\n",
       "merchant_id      0\n",
       "merchant_city    0\n",
       "mcc              0\n",
       "Description      0\n",
       "dtype: int64"
      ]
     },
     "execution_count": 29,
     "metadata": {},
     "output_type": "execute_result"
    }
   ],
   "source": [
    "df_trans_mcc.isna().sum()"
   ]
  },
  {
   "cell_type": "code",
   "execution_count": 30,
   "id": "51df2e23-d378-4950-8eff-0238d763d7b5",
   "metadata": {},
   "outputs": [],
   "source": [
    "import json\n",
    "\n",
    "# Open and load the JSON file\n",
    "with open(r\"D:\\Asmaa\\archive\\train_fraud_labels.json\", 'r') as file:\n",
    "    data1 = json.load(file)\n",
    "\n"
   ]
  },
  {
   "cell_type": "code",
   "execution_count": 31,
   "id": "2bfc9365-d7a9-4249-8f99-c49fdd8044a6",
   "metadata": {},
   "outputs": [],
   "source": [
    "df_train_fraud_labels= pd.DataFrame(list(data1['target'].items()), columns=['id', 'Value'])\n"
   ]
  },
  {
   "cell_type": "code",
   "execution_count": 32,
   "id": "6c0e6f53-67fc-4d89-87ea-ca1568e90e1b",
   "metadata": {},
   "outputs": [
    {
     "name": "stdout",
     "output_type": "stream",
     "text": [
      "<class 'pandas.core.frame.DataFrame'>\n",
      "RangeIndex: 8914963 entries, 0 to 8914962\n",
      "Data columns (total 2 columns):\n",
      " #   Column  Dtype \n",
      "---  ------  ----- \n",
      " 0   id      object\n",
      " 1   Value   object\n",
      "dtypes: object(2)\n",
      "memory usage: 136.0+ MB\n"
     ]
    }
   ],
   "source": [
    "df_train_fraud_labels.info()"
   ]
  },
  {
   "cell_type": "code",
   "execution_count": 33,
   "id": "7e4c2622-ba87-4318-b14b-4d4d8914cb22",
   "metadata": {},
   "outputs": [],
   "source": [
    "df_train_fraud_labels['id'] = df_train_fraud_labels['id'].astype(int)\n"
   ]
  },
  {
   "cell_type": "code",
   "execution_count": 34,
   "id": "d80e81de-1d28-4767-b34c-421a2d00581b",
   "metadata": {},
   "outputs": [],
   "source": [
    "df_trans_mcc_fraud = df_trans_mcc.merge(df_train_fraud_labels, left_on='id', right_on='id', how='left')\n"
   ]
  },
  {
   "cell_type": "markdown",
   "id": "9a4b6538-89b8-4449-b0d6-e07c44f927e0",
   "metadata": {},
   "source": [
    "## 📊 Missing Values Summary\n"
   ]
  },
  {
   "cell_type": "code",
   "execution_count": 35,
   "id": "e69bff9e-f88d-4b70-85cb-c2119797d99a",
   "metadata": {},
   "outputs": [
    {
     "data": {
      "text/plain": [
       "id                     0\n",
       "date                   0\n",
       "client_id              0\n",
       "card_id                0\n",
       "amount                 0\n",
       "use_chip               0\n",
       "merchant_id            0\n",
       "merchant_city          0\n",
       "mcc                    0\n",
       "Description            0\n",
       "Value            4390952\n",
       "dtype: int64"
      ]
     },
     "execution_count": 35,
     "metadata": {},
     "output_type": "execute_result"
    }
   ],
   "source": [
    "df_trans_mcc_fraud.isna().sum()"
   ]
  },
  {
   "cell_type": "code",
   "execution_count": 36,
   "id": "6f06ccc9-484e-4085-a5e3-1a886267b16e",
   "metadata": {},
   "outputs": [],
   "source": [
    "df_trans_mcc_fraud['Value'] = df_trans_mcc_fraud['Value'].fillna('No Attempt')\n"
   ]
  },
  {
   "cell_type": "code",
   "execution_count": 37,
   "id": "5e33d0b2-65ee-4251-9b81-193b010f804c",
   "metadata": {},
   "outputs": [
    {
     "data": {
      "text/plain": [
       "Value\n",
       "No            8901631\n",
       "No Attempt    4390952\n",
       "Yes             13332\n",
       "Name: count, dtype: int64"
      ]
     },
     "execution_count": 37,
     "metadata": {},
     "output_type": "execute_result"
    }
   ],
   "source": [
    "df_trans_mcc_fraud['Value'].value_counts()"
   ]
  },
  {
   "cell_type": "code",
   "execution_count": 38,
   "id": "29bf3295-6bd9-4355-bb3b-5bd64dae105e",
   "metadata": {},
   "outputs": [
    {
     "name": "stdout",
     "output_type": "stream",
     "text": [
      "<class 'pandas.core.frame.DataFrame'>\n",
      "RangeIndex: 13305915 entries, 0 to 13305914\n",
      "Data columns (total 11 columns):\n",
      " #   Column         Dtype         \n",
      "---  ------         -----         \n",
      " 0   id             int32         \n",
      " 1   date           datetime64[ns]\n",
      " 2   client_id      int32         \n",
      " 3   card_id        int32         \n",
      " 4   amount         float32       \n",
      " 5   use_chip       object        \n",
      " 6   merchant_id    int32         \n",
      " 7   merchant_city  object        \n",
      " 8   mcc            int16         \n",
      " 9   Description    object        \n",
      " 10  Value          object        \n",
      "dtypes: datetime64[ns](1), float32(1), int16(1), int32(4), object(4)\n",
      "memory usage: 786.7+ MB\n"
     ]
    }
   ],
   "source": [
    "df_trans_mcc_fraud.info()"
   ]
  },
  {
   "cell_type": "code",
   "execution_count": 39,
   "id": "0bbdfc2f-cccb-4544-8514-165b374269f8",
   "metadata": {},
   "outputs": [],
   "source": [
    "df_trans_mcc_fraud['date'] = pd.to_datetime(df_trans_mcc_fraud['date'])\n"
   ]
  },
  {
   "cell_type": "code",
   "execution_count": 40,
   "id": "ce9ef37e-fec9-4a23-a70c-a5712442a0bb",
   "metadata": {},
   "outputs": [],
   "source": [
    "df_trans_mcc_fraud['year'] = df_trans_mcc_fraud['date'].dt.year\n",
    "df_trans_mcc_fraud['month'] = df_trans_mcc_fraud['date'].dt.month\n",
    "df_trans_mcc_fraud['day'] = df_trans_mcc_fraud['date'].dt.day"
   ]
  },
  {
   "cell_type": "code",
   "execution_count": 179,
   "id": "c65de35f-d2e9-43ad-b954-ac1f79111b58",
   "metadata": {},
   "outputs": [],
   "source": [
    "df_trans_mcc_fraud['hour'] = df_trans_mcc_fraud['date'].dt.hour\n"
   ]
  },
  {
   "cell_type": "code",
   "execution_count": 43,
   "id": "3b474129-31ba-451a-b0da-5b0bc72c11d3",
   "metadata": {},
   "outputs": [
    {
     "data": {
      "text/plain": [
       "id_card                  0\n",
       "client_id                0\n",
       "card_brand               0\n",
       "card_type                0\n",
       "card_number              0\n",
       "expires                  0\n",
       "cvv                      0\n",
       "has_chip                 0\n",
       "num_cards_issued         0\n",
       "credit_limit             0\n",
       "acct_open_date           0\n",
       "year_pin_last_changed    0\n",
       "card_on_dark_web         0\n",
       "id_user                  0\n",
       "current_age              0\n",
       "retirement_age           0\n",
       "birth_year               0\n",
       "birth_month              0\n",
       "gender                   0\n",
       "address                  0\n",
       "latitude                 0\n",
       "longitude                0\n",
       "per_capita_income        0\n",
       "yearly_income            0\n",
       "total_debt               0\n",
       "credit_score             0\n",
       "num_credit_cards         0\n",
       "dtype: int64"
      ]
     },
     "execution_count": 43,
     "metadata": {},
     "output_type": "execute_result"
    }
   ],
   "source": [
    "df_cards_users.isna().sum()"
   ]
  },
  {
   "cell_type": "code",
   "execution_count": 44,
   "id": "41c14e1b-3fc6-4546-bfc0-61619cbcef90",
   "metadata": {},
   "outputs": [
    {
     "data": {
      "text/plain": [
       "np.int64(0)"
      ]
     },
     "execution_count": 44,
     "metadata": {},
     "output_type": "execute_result"
    }
   ],
   "source": [
    "df_cards_users.duplicated().sum()"
   ]
  },
  {
   "cell_type": "markdown",
   "id": "4abaabe5-b759-4ed2-a880-82f9dc05ebbf",
   "metadata": {},
   "source": [
    "## **🛠️ Handle Data**\n"
   ]
  },
  {
   "cell_type": "code",
   "execution_count": 63,
   "id": "9066d4c2-8b21-44eb-9f06-28112cc4023f",
   "metadata": {},
   "outputs": [
    {
     "name": "stdout",
     "output_type": "stream",
     "text": [
      "credit_score\n",
      "Good         2984\n",
      "Very Good    1596\n",
      "Fair          823\n",
      "Excellent     572\n",
      "Poor          171\n",
      "Name: count, dtype: int64\n"
     ]
    }
   ],
   "source": [
    "def credit_score_category(score):\n",
    "    if pd.isna(score):\n",
    "        return \"Unknown\"\n",
    "    elif score < 580:\n",
    "        return \"Poor\"\n",
    "    elif 580 <= score < 670:\n",
    "        return \"Fair\"\n",
    "    elif 670 <= score < 740:\n",
    "        return \"Good\"\n",
    "    elif 740 <= score < 800:\n",
    "        return \"Very Good\"\n",
    "    else:\n",
    "        return \"Excellent\"\n",
    "\n",
    "df_cards_users[\"credit_score\"] = df_cards_users[\"credit_score\"].apply(credit_score_category)\n",
    "\n",
    "print(df_cards_users[\"credit_score\"].value_counts())\n"
   ]
  },
  {
   "cell_type": "code",
   "execution_count": 75,
   "id": "66972013-9531-4aa9-af26-4e8e16b7c211",
   "metadata": {},
   "outputs": [],
   "source": [
    "df_clean = df_cards_users[(df_cards_users['per_capita_income'] > 0) & (df_cards_users['yearly_income'] > 0)]\n"
   ]
  },
  {
   "cell_type": "code",
   "execution_count": 74,
   "id": "1c3c4944-20c5-4b69-997f-7ddc33be191c",
   "metadata": {},
   "outputs": [],
   "source": [
    "median_per_capita = df_cards_users['per_capita_income'].median()\n",
    "median_yearly_income = df_cards_users['yearly_income'].median()\n",
    "\n",
    "df_cards_users['per_capita_income'].replace(0, median_per_capita, inplace=True)\n",
    "df_cards_users['yearly_income'].replace(0, median_yearly_income, inplace=True)\n"
   ]
  },
  {
   "cell_type": "code",
   "execution_count": 77,
   "id": "5e4223b3-625c-4ed8-aed5-10d510b7b8e3",
   "metadata": {},
   "outputs": [
    {
     "name": "stdout",
     "output_type": "stream",
     "text": [
      "card_brand\n",
      "Mastercard    3209\n",
      "Visa          2326\n",
      "Amex           402\n",
      "Discover       209\n",
      "Name: count, dtype: int64\n",
      "gender\n",
      "Female    3139\n",
      "Male      3007\n",
      "Name: count, dtype: int64\n",
      "card_on_dark_web\n",
      "No    6146\n",
      "Name: count, dtype: int64\n"
     ]
    }
   ],
   "source": [
    "print(df_clean[\"card_brand\"].value_counts())\n",
    "print(df_clean[\"gender\"].value_counts())\n",
    "print(df_clean[\"card_on_dark_web\"].value_counts())\n"
   ]
  },
  {
   "cell_type": "markdown",
   "id": "a4cc5864-10af-424f-b360-70f57b0f71a7",
   "metadata": {},
   "source": [
    "Feature Engineering"
   ]
  },
  {
   "cell_type": "code",
   "execution_count": 125,
   "id": "9bc1a380-157a-4ffd-b7b8-9307e8481fc8",
   "metadata": {},
   "outputs": [],
   "source": [
    "df_cards_users['acct_open_year'] = pd.to_datetime(df_clean['acct_open_date']).dt.year\n",
    "\n",
    "# Age when the card was issued\n",
    "df_cards_users['age_at_issue'] = df_cards_users['acct_open_year'] - df_cards_users['birth_year']\n",
    "\n",
    "# Debt-to-income ratio\n",
    "df_cards_users['debt_to_income_ratio'] = df_cards_users['total_debt'] / df_cards_users['yearly_income']\n",
    "\n",
    "\n"
   ]
  },
  {
   "cell_type": "code",
   "execution_count": 124,
   "id": "d4ef0767-af26-4ea9-966c-0676d2137092",
   "metadata": {},
   "outputs": [
    {
     "data": {
      "text/plain": [
       "client_id\n",
       "0       4\n",
       "1       3\n",
       "2       5\n",
       "3       4\n",
       "4       5\n",
       "       ..\n",
       "1995    4\n",
       "1996    3\n",
       "1997    7\n",
       "1998    3\n",
       "1999    2\n",
       "Name: id_card, Length: 2000, dtype: int64"
      ]
     },
     "execution_count": 124,
     "metadata": {},
     "output_type": "execute_result"
    }
   ],
   "source": [
    "cards_per_client"
   ]
  },
  {
   "cell_type": "markdown",
   "id": "37682158-514c-4349-9f09-b3b9bc1bd387",
   "metadata": {},
   "source": [
    "Card Brand vs Average Credit Limit"
   ]
  },
  {
   "cell_type": "code",
   "execution_count": 146,
   "id": "606827f6-1c7b-44b2-98a5-507867f72402",
   "metadata": {},
   "outputs": [
    {
     "data": {
      "image/png": "[encoded data removed]",
      "text/plain": [
       "<Figure size 500x500 with 1 Axes>"
      ]
     },
     "metadata": {},
     "output_type": "display_data"
    }
   ],
   "source": [
    "plt.figure(figsize=(5,5))\n",
    "sns.barplot(data=df_clean, x='card_brand', y='credit_limit', estimator=np.mean, palette=\"Set2\", errorbar=None)\n",
    "plt.title(\"Average Credit Limit by Card Brand\", fontsize=14, fontweight=\"bold\")\n",
    "plt.xlabel(\"Card Brand\", fontsize=12)\n",
    "plt.ylabel(\"Average Credit Limit\", fontsize=12)\n",
    "plt.xticks(rotation=0, fontsize=10)\n",
    "plt.yticks(fontsize=10)\n",
    "plt.tight_layout()\n",
    "plt.show()\n"
   ]
  },
  {
   "cell_type": "markdown",
   "id": "f4e50856-278a-49a6-86a6-3c353b9e6af6",
   "metadata": {},
   "source": [
    "Debt-to-Income Ratio Distribution"
   ]
  },
  {
   "cell_type": "code",
   "execution_count": 151,
   "id": "62b4df1f-6df2-465d-b5e3-b5db1adcd471",
   "metadata": {},
   "outputs": [
    {
     "data": {
      "image/png": "[encoded data removed]",
      "text/plain": [
       "<Figure size 500x500 with 1 Axes>"
      ]
     },
     "metadata": {},
     "output_type": "display_data"
    }
   ],
   "source": [
    "plt.figure(figsize=(5,5))\n",
    "sns.histplot(data=df_clean, x='debt_to_income_ratio', kde=True, bins=30, color=\"teal\")\n",
    "plt.title(\"Debt-to-Income Ratio Distribution\", fontsize=14, fontweight=\"bold\")\n",
    "plt.xlabel(\"Debt-to-Income Ratio\", fontsize=12)\n",
    "plt.ylabel(\"Frequency\", fontsize=12)\n",
    "plt.tight_layout()\n",
    "plt.show()\n"
   ]
  },
  {
   "cell_type": "code",
   "execution_count": 83,
   "id": "15e9e851-0b6e-4cb3-8130-eab3517c8eea",
   "metadata": {},
   "outputs": [],
   "source": [
    "def risk_category(ratio):\n",
    "    if ratio < 0.3:\n",
    "        return \"Low Risk\"\n",
    "    elif 0.3 <= ratio <= 0.5:\n",
    "        return \"Medium Risk\"\n",
    "    else:\n",
    "        return \"High Risk\"\n",
    "\n",
    "df_cards_users['risk_level'] = df_cards_users['debt_to_income_ratio'].apply(risk_category)\n"
   ]
  },
  {
   "cell_type": "code",
   "execution_count": 102,
   "id": "3a814ce1-d7bd-4705-a637-e5c1f85cef86",
   "metadata": {},
   "outputs": [],
   "source": [
    "counts=df_cards_users['risk_level'].value_counts()"
   ]
  },
  {
   "cell_type": "code",
   "execution_count": 104,
   "id": "6532c5cd-d8a1-4626-a438-6db052ff016e",
   "metadata": {},
   "outputs": [
    {
     "data": {
      "image/png": "[encoded data removed]",
      "text/plain": [
       "<Figure size 600x400 with 1 Axes>"
      ]
     },
     "metadata": {},
     "output_type": "display_data"
    }
   ],
   "source": [
    "plt.figure(figsize=(6,4))\n",
    "plt.pie(counts.values, labels=counts.index, autopct='%1.1f%%')\n",
    "plt.title(\"Customer Risk Levels Count\")\n",
    "plt.show()\n"
   ]
  },
  {
   "cell_type": "code",
   "execution_count": 118,
   "id": "0e2353bd-242e-458a-862c-11e93a6626f4",
   "metadata": {},
   "outputs": [
    {
     "data": {
      "image/png": "[encoded data removed]",
      "text/plain": [
       "<Figure size 500x500 with 1 Axes>"
      ]
     },
     "metadata": {},
     "output_type": "display_data"
    }
   ],
   "source": [
    "# Average credit limit per card type\n",
    "avg_credit_by_type = df_cards_users.groupby('card_type')['credit_limit'].mean()\n",
    "plt.figure(figsize=(5,5))\n",
    "avg_credit_by_type.plot(kind='bar', color='skyblue')\n",
    "plt.title(\"Average Credit Limit by Card Type\")\n",
    "plt.ylabel(\"Average Credit Limit\")\n",
    "plt.xlabel(\"Card Type\")\n",
    "plt.xticks(rotation=0)\n",
    "plt.tight_layout()\n",
    "plt.show()"
   ]
  },
  {
   "cell_type": "code",
   "execution_count": 117,
   "id": "e03cca9a-e5a1-46f2-8fa8-137a47be03b0",
   "metadata": {},
   "outputs": [
    {
     "data": {
      "image/png": "[encoded data removed]",
      "text/plain": [
       "<Figure size 500x500 with 2 Axes>"
      ]
     },
     "metadata": {},
     "output_type": "display_data"
    }
   ],
   "source": [
    "crosstab_clients = pd.crosstab(df_cards_users['card_brand'], df_cards_users['risk_level'])\n",
    "plt.figure(figsize=(5,5))\n",
    "sns.heatmap(crosstab_clients, annot=True, fmt=\"d\", cmap=\"Greens\")\n",
    "plt.title(\"Crosstab - Number of Clients by Card Brand and Risk Level\")\n",
    "plt.ylabel(\"Card Brand\")\n",
    "plt.xlabel(\"Risk Level\")\n",
    "plt.tight_layout()\n",
    "plt.show()"
   ]
  },
  {
   "cell_type": "code",
   "execution_count": null,
   "id": "d8e4d38d-6547-4481-93d9-7e1035c166e9",
   "metadata": {},
   "outputs": [],
   "source": []
  },
  {
   "cell_type": "code",
   "execution_count": 121,
   "id": "0b724ebd-8aef-449a-84a2-09c4a40783fb",
   "metadata": {},
   "outputs": [
    {
     "data": {
      "image/png": "[encoded data removed]",
      "text/plain": [
       "<Figure size 600x400 with 1 Axes>"
      ]
     },
     "metadata": {},
     "output_type": "display_data"
    }
   ],
   "source": [
    "plt.figure(figsize=(6,4))\n",
    "sns.countplot(data=df_cards_users, x=\"gender\", hue=\"risk_level\", palette=\"Set2\")\n",
    "plt.title(\"Risk Level Distribution by Gender\")\n",
    "plt.xlabel(\"Gender\")\n",
    "plt.ylabel(\"Count\")\n",
    "plt.tight_layout()\n",
    "plt.show()"
   ]
  },
  {
   "cell_type": "code",
   "execution_count": 126,
   "id": "3da859eb-3c1c-4b73-b672-69732aaf5af2",
   "metadata": {},
   "outputs": [],
   "source": [
    "# Count how many cards each client has\n",
    "cards_per_client = df_cards_users.groupby([\"client_id\", \"gender\"])[\"id_card\"].count().reset_index()\n",
    "cards_per_client.rename(columns={\"id_card\": \"cards_count_verified\"}, inplace=True)"
   ]
  },
  {
   "cell_type": "code",
   "execution_count": 128,
   "id": "7f7850a2-716a-4116-aec2-495cedb269ac",
   "metadata": {},
   "outputs": [
    {
     "data": {
      "image/png": "[encoded data removed]",
      "text/plain": [
       "<Figure size 800x400 with 1 Axes>"
      ]
     },
     "metadata": {},
     "output_type": "display_data"
    }
   ],
   "source": [
    "plt.figure(figsize=(8,4))\n",
    "sns.countplot(\n",
    "    data=cards_per_client,\n",
    "    x=\"gender\",\n",
    "    hue=\"cards_count_verified\",  # Number of cards per client\n",
    "    palette=\"Set2\"\n",
    ")\n",
    "plt.title(\"Distribution of Cards Issued per Client by Gender\")\n",
    "plt.xlabel(\"Gender\")\n",
    "plt.ylabel(\"Number of Clients\")\n",
    "plt.legend(title=\"Number of Cards\")\n",
    "plt.tight_layout()\n",
    "plt.show()"
   ]
  },
  {
   "cell_type": "code",
   "execution_count": 228,
   "id": "7f7ea6b8-0d11-4219-b39c-8619f0e61fff",
   "metadata": {},
   "outputs": [],
   "source": [
    "import folium\n",
    "from folium.plugins import HeatMap\n",
    "\n",
    "# Initialize map centered around mean coordinates\n",
    "m = folium.Map(location=[df_cards_users['latitude'].mean(), df_cards_users['longitude'].mean()], zoom_start=10)\n",
    "\n",
    "# Prepare data for heatmap (latitude, longitude, weight=income)\n",
    "heat_data = [[row['latitude'], row['longitude'], row['per_capita_income']] for idx, row in df_cards_users.iterrows()]\n",
    "\n",
    "# Add HeatMap\n",
    "my_map=HeatMap(heat_data, radius=10, max_zoom=13).add_to(m)\n",
    "\n",
    "\n",
    "\n"
   ]
  },
  {
   "cell_type": "code",
   "execution_count": 229,
   "id": "9cdff248-3560-43db-866e-b1402475af84",
   "metadata": {},
   "outputs": [
    {
     "data": {
      "text/plain": [
       "<folium.plugins.heat_map.HeatMap at 0x190fb54c3e0>"
      ]
     },
     "execution_count": 229,
     "metadata": {},
     "output_type": "execute_result"
    }
   ],
   "source": [
    "my_map"
   ]
  },
  {
   "cell_type": "code",
   "execution_count": null,
   "id": "05d36d94-bf09-4e78-b65d-589fa4fc16a2",
   "metadata": {},
   "outputs": [],
   "source": [
    "m.save(\"my_map.html\")\n"
   ]
  },
  {
   "cell_type": "markdown",
   "id": "be230352-f540-49ac-bb91-1e7d879d89f8",
   "metadata": {},
   "source": [
    "**💡 Note:** We note that the highest income is in New York and the East of USA.\n"
   ]
  },
  {
   "cell_type": "markdown",
   "id": "e16f6afd-9f9b-4b7f-99ff-98245160a948",
   "metadata": {},
   "source": [
    "# 💳 Transaction Data\n"
   ]
  },
  {
   "cell_type": "markdown",
   "id": "6d48df37-ce31-4a2b-b87a-15cd47fbe1d3",
   "metadata": {},
   "source": [
    "##### 📈 Summary Statistics\n"
   ]
  },
  {
   "cell_type": "code",
   "execution_count": 152,
   "id": "346c1b2e-bfbf-4d09-8d94-4160e18e17a8",
   "metadata": {},
   "outputs": [
    {
     "data": {
      "text/html": [
       "<div>\n",
       "<style scoped>\n",
       "    .dataframe tbody tr th:only-of-type {\n",
       "        vertical-align: middle;\n",
       "    }\n",
       "\n",
       "    .dataframe tbody tr th {\n",
       "        vertical-align: top;\n",
       "    }\n",
       "\n",
       "    .dataframe thead th {\n",
       "        text-align: right;\n",
       "    }\n",
       "</style>\n",
       "<table border=\"1\" class=\"dataframe\">\n",
       "  <thead>\n",
       "    <tr style=\"text-align: right;\">\n",
       "      <th></th>\n",
       "      <th>id</th>\n",
       "      <th>date</th>\n",
       "      <th>client_id</th>\n",
       "      <th>card_id</th>\n",
       "      <th>amount</th>\n",
       "      <th>merchant_id</th>\n",
       "      <th>mcc</th>\n",
       "      <th>year</th>\n",
       "      <th>month</th>\n",
       "      <th>day</th>\n",
       "    </tr>\n",
       "  </thead>\n",
       "  <tbody>\n",
       "    <tr>\n",
       "      <th>count</th>\n",
       "      <td>1.330592e+07</td>\n",
       "      <td>13305915</td>\n",
       "      <td>1.330592e+07</td>\n",
       "      <td>1.330592e+07</td>\n",
       "      <td>1.330592e+07</td>\n",
       "      <td>1.330592e+07</td>\n",
       "      <td>1.330592e+07</td>\n",
       "      <td>1.330592e+07</td>\n",
       "      <td>1.330592e+07</td>\n",
       "      <td>1.330592e+07</td>\n",
       "    </tr>\n",
       "    <tr>\n",
       "      <th>mean</th>\n",
       "      <td>1.558402e+07</td>\n",
       "      <td>2015-01-06 06:50:27.604354816</td>\n",
       "      <td>1.026812e+03</td>\n",
       "      <td>3.475268e+03</td>\n",
       "      <td>4.297605e+01</td>\n",
       "      <td>4.772376e+04</td>\n",
       "      <td>5.565440e+03</td>\n",
       "      <td>2.014520e+03</td>\n",
       "      <td>6.454595e+00</td>\n",
       "      <td>1.572108e+01</td>\n",
       "    </tr>\n",
       "    <tr>\n",
       "      <th>min</th>\n",
       "      <td>7.475327e+06</td>\n",
       "      <td>2010-01-01 00:01:00</td>\n",
       "      <td>0.000000e+00</td>\n",
       "      <td>0.000000e+00</td>\n",
       "      <td>-5.000000e+02</td>\n",
       "      <td>1.000000e+00</td>\n",
       "      <td>1.711000e+03</td>\n",
       "      <td>2.010000e+03</td>\n",
       "      <td>1.000000e+00</td>\n",
       "      <td>1.000000e+00</td>\n",
       "    </tr>\n",
       "    <tr>\n",
       "      <th>25%</th>\n",
       "      <td>1.150604e+07</td>\n",
       "      <td>2012-08-08 21:43:00</td>\n",
       "      <td>5.190000e+02</td>\n",
       "      <td>2.413000e+03</td>\n",
       "      <td>8.930000e+00</td>\n",
       "      <td>2.588700e+04</td>\n",
       "      <td>5.300000e+03</td>\n",
       "      <td>2.012000e+03</td>\n",
       "      <td>4.000000e+00</td>\n",
       "      <td>8.000000e+00</td>\n",
       "    </tr>\n",
       "    <tr>\n",
       "      <th>50%</th>\n",
       "      <td>1.557087e+07</td>\n",
       "      <td>2015-01-22 12:17:00</td>\n",
       "      <td>1.070000e+03</td>\n",
       "      <td>3.584000e+03</td>\n",
       "      <td>2.899000e+01</td>\n",
       "      <td>4.592600e+04</td>\n",
       "      <td>5.499000e+03</td>\n",
       "      <td>2.015000e+03</td>\n",
       "      <td>6.000000e+00</td>\n",
       "      <td>1.600000e+01</td>\n",
       "    </tr>\n",
       "    <tr>\n",
       "      <th>75%</th>\n",
       "      <td>1.965361e+07</td>\n",
       "      <td>2017-06-13 17:45:00</td>\n",
       "      <td>1.531000e+03</td>\n",
       "      <td>4.901000e+03</td>\n",
       "      <td>6.371000e+01</td>\n",
       "      <td>6.757000e+04</td>\n",
       "      <td>5.812000e+03</td>\n",
       "      <td>2.017000e+03</td>\n",
       "      <td>9.000000e+00</td>\n",
       "      <td>2.300000e+01</td>\n",
       "    </tr>\n",
       "    <tr>\n",
       "      <th>max</th>\n",
       "      <td>2.376187e+07</td>\n",
       "      <td>2019-10-31 23:59:00</td>\n",
       "      <td>1.998000e+03</td>\n",
       "      <td>6.144000e+03</td>\n",
       "      <td>6.820200e+03</td>\n",
       "      <td>1.003420e+05</td>\n",
       "      <td>9.402000e+03</td>\n",
       "      <td>2.019000e+03</td>\n",
       "      <td>1.200000e+01</td>\n",
       "      <td>3.100000e+01</td>\n",
       "    </tr>\n",
       "    <tr>\n",
       "      <th>std</th>\n",
       "      <td>4.704499e+06</td>\n",
       "      <td>NaN</td>\n",
       "      <td>5.816386e+02</td>\n",
       "      <td>1.674356e+03</td>\n",
       "      <td>8.165575e+01</td>\n",
       "      <td>2.581534e+04</td>\n",
       "      <td>8.757002e+02</td>\n",
       "      <td>2.814220e+00</td>\n",
       "      <td>3.410946e+00</td>\n",
       "      <td>8.795410e+00</td>\n",
       "    </tr>\n",
       "  </tbody>\n",
       "</table>\n",
       "</div>"
      ],
      "text/plain": [
       "                 id                           date     client_id  \\\n",
       "count  1.330592e+07                       13305915  1.330592e+07   \n",
       "mean   1.558402e+07  2015-01-06 06:50:27.604354816  1.026812e+03   \n",
       "min    7.475327e+06            2010-01-01 00:01:00  0.000000e+00   \n",
       "25%    1.150604e+07            2012-08-08 21:43:00  5.190000e+02   \n",
       "50%    1.557087e+07            2015-01-22 12:17:00  1.070000e+03   \n",
       "75%    1.965361e+07            2017-06-13 17:45:00  1.531000e+03   \n",
       "max    2.376187e+07            2019-10-31 23:59:00  1.998000e+03   \n",
       "std    4.704499e+06                            NaN  5.816386e+02   \n",
       "\n",
       "            card_id        amount   merchant_id           mcc          year  \\\n",
       "count  1.330592e+07  1.330592e+07  1.330592e+07  1.330592e+07  1.330592e+07   \n",
       "mean   3.475268e+03  4.297605e+01  4.772376e+04  5.565440e+03  2.014520e+03   \n",
       "min    0.000000e+00 -5.000000e+02  1.000000e+00  1.711000e+03  2.010000e+03   \n",
       "25%    2.413000e+03  8.930000e+00  2.588700e+04  5.300000e+03  2.012000e+03   \n",
       "50%    3.584000e+03  2.899000e+01  4.592600e+04  5.499000e+03  2.015000e+03   \n",
       "75%    4.901000e+03  6.371000e+01  6.757000e+04  5.812000e+03  2.017000e+03   \n",
       "max    6.144000e+03  6.820200e+03  1.003420e+05  9.402000e+03  2.019000e+03   \n",
       "std    1.674356e+03  8.165575e+01  2.581534e+04  8.757002e+02  2.814220e+00   \n",
       "\n",
       "              month           day  \n",
       "count  1.330592e+07  1.330592e+07  \n",
       "mean   6.454595e+00  1.572108e+01  \n",
       "min    1.000000e+00  1.000000e+00  \n",
       "25%    4.000000e+00  8.000000e+00  \n",
       "50%    6.000000e+00  1.600000e+01  \n",
       "75%    9.000000e+00  2.300000e+01  \n",
       "max    1.200000e+01  3.100000e+01  \n",
       "std    3.410946e+00  8.795410e+00  "
      ]
     },
     "execution_count": 152,
     "metadata": {},
     "output_type": "execute_result"
    }
   ],
   "source": [
    "df_trans_mcc_fraud.describe()"
   ]
  },
  {
   "cell_type": "markdown",
   "id": "66abbf14-692d-4756-91da-084063181ee9",
   "metadata": {},
   "source": [
    "> 📝 **Note:**  \n",
    "> - 👥 `client_id` and 💳 `card_id` start at 0, which may indicate placeholder values.  \n",
    "> - 💸 `amount` contains outliers, including negative values and very high transactions.\n"
   ]
  },
  {
   "cell_type": "code",
   "execution_count": 157,
   "id": "2083d0e4-d3bc-44cf-b834-2ea7ff4307f2",
   "metadata": {},
   "outputs": [
    {
     "data": {
      "image/png": "[encoded data removed]",
      "text/plain": [
       "<Figure size 500x500 with 1 Axes>"
      ]
     },
     "metadata": {},
     "output_type": "display_data"
    }
   ],
   "source": [
    "plt.figure(figsize=(5,5))\n",
    "sns.boxplot(x='amount', data=df_trans_mcc_fraud, palette=\"coolwarm\", showfliers=True)\n",
    "plt.title(\"Boxplot of Transaction Amounts\", fontsize=14, fontweight=\"bold\")\n",
    "plt.xlabel(\"Transaction Amount\", fontsize=12)\n",
    "plt.xticks(rotation=0)\n",
    "plt.tight_layout()\n",
    "plt.show()\n"
   ]
  },
  {
   "cell_type": "markdown",
   "id": "e3e3654e-c35b-4ae8-a587-6af346e1a25d",
   "metadata": {},
   "source": [
    "> 💡 **Handling Outliers:**  \n",
    "> - There's outliers in `amount`, but it's real important data.  \n",
    "> - I will use **log transform** to handle the big numbers.\n"
   ]
  },
  {
   "cell_type": "code",
   "execution_count": 158,
   "id": "9b83c5e5-9be1-4be7-babc-b37dfe5ab2a4",
   "metadata": {},
   "outputs": [],
   "source": [
    "df_trans_mcc_fraud['amount_log'] = np.sign(df_trans_mcc_fraud['amount']) * np.log1p(np.abs(df_trans_mcc_fraud['amount']))\n"
   ]
  },
  {
   "cell_type": "code",
   "execution_count": 159,
   "id": "ed531bb5-42e3-49a2-b452-6e915c0e17dd",
   "metadata": {},
   "outputs": [
    {
     "data": {
      "image/png": "[encoded data removed]",
      "text/plain": [
       "<Figure size 500x500 with 1 Axes>"
      ]
     },
     "metadata": {},
     "output_type": "display_data"
    }
   ],
   "source": [
    "plt.figure(figsize=(5,5))\n",
    "sns.boxplot(x='amount_log', data=df_trans_mcc_fraud, palette=\"coolwarm\", showfliers=True)\n",
    "plt.title(\"Log-Transformed Transaction Amounts\", fontsize=14, fontweight=\"bold\")\n",
    "plt.xlabel(\"Log(Transaction Amount)\", fontsize=12)\n",
    "plt.tight_layout()\n",
    "plt.show()"
   ]
  },
  {
   "cell_type": "code",
   "execution_count": 160,
   "id": "c5abd4c8-0eb0-49b7-aa14-0d643715fe25",
   "metadata": {},
   "outputs": [
    {
     "data": {
      "text/plain": [
       "np.int64(12795)"
      ]
     },
     "execution_count": 160,
     "metadata": {},
     "output_type": "execute_result"
    }
   ],
   "source": [
    "(df_trans_mcc_fraud['client_id'] == 0).sum()"
   ]
  },
  {
   "cell_type": "code",
   "execution_count": 161,
   "id": "9130ad91-fac5-45a7-a144-ed280dba3b2f",
   "metadata": {},
   "outputs": [
    {
     "data": {
      "text/plain": [
       "np.int64(3402)"
      ]
     },
     "execution_count": 161,
     "metadata": {},
     "output_type": "execute_result"
    }
   ],
   "source": [
    "(df_trans_mcc_fraud['card_id'] == 0).sum()"
   ]
  },
  {
   "cell_type": "code",
   "execution_count": 166,
   "id": "5a29bcc9-a3c3-4fb9-8e19-daf9892306ab",
   "metadata": {},
   "outputs": [],
   "source": [
    "df_trans_mcc_fraud['unique_id'] = range(1, len(df_trans_mcc_fraud)+1)\n"
   ]
  },
  {
   "cell_type": "code",
   "execution_count": 214,
   "id": "94cacea1-7a41-4b7b-9cb3-13b0a5d141be",
   "metadata": {},
   "outputs": [
    {
     "data": {
      "text/plain": [
       "108"
      ]
     },
     "execution_count": 214,
     "metadata": {},
     "output_type": "execute_result"
    }
   ],
   "source": [
    "len(df_trans_mcc_fraud['Description'].unique())"
   ]
  },
  {
   "cell_type": "markdown",
   "id": "52a5d3e6-c3b8-4b3e-b8c6-c367295fa42e",
   "metadata": {},
   "source": [
    "#### ✨ **Top 10 Descriptions by Transaction Count** ✨\n"
   ]
  },
  {
   "cell_type": "code",
   "execution_count": 168,
   "id": "8163e422-b9e5-4207-afbb-c80cd5028812",
   "metadata": {},
   "outputs": [
    {
     "data": {
      "image/png": "[encoded data removed]",
      "text/plain": [
       "<Figure size 1000x600 with 1 Axes>"
      ]
     },
     "metadata": {},
     "output_type": "display_data"
    }
   ],
   "source": [
    "# Top 10 Descriptions by Transaction Count\n",
    "top_desc = df_trans_mcc_fraud['Description'].value_counts().nlargest(10).index\n",
    "\n",
    "plt.figure(figsize=(10,6))\n",
    "sns.boxplot(x='amount_log', y='Description', data=df_trans_mcc_fraud[df_trans_mcc_fraud['Description'].isin(top_desc)], palette=\"Set3\", showfliers=True); plt.title(\"Distribution of Transaction Amounts for Top 10 Descriptions\"); plt.xlabel(\"Log(Transaction Amount)\"); plt.ylabel(\"Description\"); plt.tight_layout(); plt.show()\n"
   ]
  },
  {
   "cell_type": "markdown",
   "id": "b35cffe1-123f-4135-822e-1e73d2dc3626",
   "metadata": {},
   "source": [
    "## ✨ **Distribution of Transaction Amounts** ✨\n"
   ]
  },
  {
   "cell_type": "code",
   "execution_count": 169,
   "id": "3f2d28e8-24f5-4783-8f6c-f1b7031495c1",
   "metadata": {},
   "outputs": [
    {
     "data": {
      "text/html": [
       "<div>\n",
       "<style scoped>\n",
       "    .dataframe tbody tr th:only-of-type {\n",
       "        vertical-align: middle;\n",
       "    }\n",
       "\n",
       "    .dataframe tbody tr th {\n",
       "        vertical-align: top;\n",
       "    }\n",
       "\n",
       "    .dataframe thead th {\n",
       "        text-align: right;\n",
       "    }\n",
       "</style>\n",
       "<table border=\"1\" class=\"dataframe\">\n",
       "  <thead>\n",
       "    <tr style=\"text-align: right;\">\n",
       "      <th></th>\n",
       "      <th>count</th>\n",
       "      <th>mean</th>\n",
       "      <th>sum</th>\n",
       "    </tr>\n",
       "    <tr>\n",
       "      <th>Description</th>\n",
       "      <th></th>\n",
       "      <th></th>\n",
       "      <th></th>\n",
       "    </tr>\n",
       "  </thead>\n",
       "  <tbody>\n",
       "    <tr>\n",
       "      <th>Grocery Stores, Supermarkets</th>\n",
       "      <td>1592584</td>\n",
       "      <td>25.725962</td>\n",
       "      <td>4.097076e+07</td>\n",
       "    </tr>\n",
       "    <tr>\n",
       "      <th>Miscellaneous Food Stores</th>\n",
       "      <td>1460875</td>\n",
       "      <td>10.652911</td>\n",
       "      <td>1.556257e+07</td>\n",
       "    </tr>\n",
       "    <tr>\n",
       "      <th>Service Stations</th>\n",
       "      <td>1424711</td>\n",
       "      <td>20.755386</td>\n",
       "      <td>2.957043e+07</td>\n",
       "    </tr>\n",
       "    <tr>\n",
       "      <th>Eating Places and Restaurants</th>\n",
       "      <td>999738</td>\n",
       "      <td>26.355131</td>\n",
       "      <td>2.634823e+07</td>\n",
       "    </tr>\n",
       "    <tr>\n",
       "      <th>Drug Stores and Pharmacies</th>\n",
       "      <td>772913</td>\n",
       "      <td>45.430119</td>\n",
       "      <td>3.511353e+07</td>\n",
       "    </tr>\n",
       "    <tr>\n",
       "      <th>...</th>\n",
       "      <td>...</td>\n",
       "      <td>...</td>\n",
       "      <td>...</td>\n",
       "    </tr>\n",
       "    <tr>\n",
       "      <th>Miscellaneous Fabricated Metal Products</th>\n",
       "      <td>351</td>\n",
       "      <td>786.780518</td>\n",
       "      <td>2.761600e+05</td>\n",
       "    </tr>\n",
       "    <tr>\n",
       "      <th>Household Appliance Stores</th>\n",
       "      <td>348</td>\n",
       "      <td>460.590881</td>\n",
       "      <td>1.602856e+05</td>\n",
       "    </tr>\n",
       "    <tr>\n",
       "      <th>Bolt, Nut, Screw, Rivet Manufacturing</th>\n",
       "      <td>337</td>\n",
       "      <td>761.095337</td>\n",
       "      <td>2.564891e+05</td>\n",
       "    </tr>\n",
       "    <tr>\n",
       "      <th>Floor Covering Stores</th>\n",
       "      <td>334</td>\n",
       "      <td>758.882996</td>\n",
       "      <td>2.534669e+05</td>\n",
       "    </tr>\n",
       "    <tr>\n",
       "      <th>Music Stores - Musical Instruments</th>\n",
       "      <td>319</td>\n",
       "      <td>465.645538</td>\n",
       "      <td>1.485409e+05</td>\n",
       "    </tr>\n",
       "  </tbody>\n",
       "</table>\n",
       "<p>108 rows × 3 columns</p>\n",
       "</div>"
      ],
      "text/plain": [
       "                                           count        mean           sum\n",
       "Description                                                               \n",
       "Grocery Stores, Supermarkets             1592584   25.725962  4.097076e+07\n",
       "Miscellaneous Food Stores                1460875   10.652911  1.556257e+07\n",
       "Service Stations                         1424711   20.755386  2.957043e+07\n",
       "Eating Places and Restaurants             999738   26.355131  2.634823e+07\n",
       "Drug Stores and Pharmacies                772913   45.430119  3.511353e+07\n",
       "...                                          ...         ...           ...\n",
       "Miscellaneous Fabricated Metal Products      351  786.780518  2.761600e+05\n",
       "Household Appliance Stores                   348  460.590881  1.602856e+05\n",
       "Bolt, Nut, Screw, Rivet Manufacturing        337  761.095337  2.564891e+05\n",
       "Floor Covering Stores                        334  758.882996  2.534669e+05\n",
       "Music Stores - Musical Instruments           319  465.645538  1.485409e+05\n",
       "\n",
       "[108 rows x 3 columns]"
      ]
     },
     "execution_count": 169,
     "metadata": {},
     "output_type": "execute_result"
    }
   ],
   "source": [
    "df_trans_mcc_fraud.groupby('Description')['amount'].agg(['count','mean','sum']).sort_values('count', ascending=False)\n"
   ]
  },
  {
   "cell_type": "markdown",
   "id": "cc271ee8-4ee9-409a-baa5-0c6f72405fc6",
   "metadata": {},
   "source": [
    "### 📈 Line Plot: Total Transaction Amount per Year\n"
   ]
  },
  {
   "cell_type": "code",
   "execution_count": 177,
   "id": "37b88cbd-0d01-41b1-8804-4ff73acae279",
   "metadata": {},
   "outputs": [
    {
     "data": {
      "image/png": "[encoded data removed]",
      "text/plain": [
       "<Figure size 600x400 with 1 Axes>"
      ]
     },
     "metadata": {},
     "output_type": "display_data"
    }
   ],
   "source": [
    "plt.figure(figsize=(6,4))\n",
    "colors = sns.color_palette(\"Set2\", 8)  \n",
    "df_trans_mcc_fraud.groupby(\"year\")[\"amount\"].sum().plot(kind=\"line\", marker=\"o\", color=colors[0], linewidth=2)\n",
    "plt.title(\"Total Transaction Amount per Year\"); plt.xlabel(\"Year\"); plt.ylabel(\"Total Amount\")\n",
    "plt.tight_layout(); plt.show()"
   ]
  },
  {
   "cell_type": "markdown",
   "id": "9d160eec-b327-4ef6-859b-3e8379d3d271",
   "metadata": {},
   "source": [
    "#### 📊 Yearly Insight\n",
    "**Observation:** Most transactions in the dataset occurred in **2016**.\n"
   ]
  },
  {
   "cell_type": "code",
   "execution_count": 182,
   "id": "237545e5-b46e-4816-b065-627bcdf97768",
   "metadata": {},
   "outputs": [
    {
     "data": {
      "text/plain": [
       "<Axes: xlabel='hour', ylabel='amount'>"
      ]
     },
     "execution_count": 182,
     "metadata": {},
     "output_type": "execute_result"
    },
    {
     "data": {
      "image/png": "[encoded data removed]",
      "text/plain": [
       "<Figure size 640x480 with 1 Axes>"
      ]
     },
     "metadata": {},
     "output_type": "display_data"
    }
   ],
   "source": [
    "sns.lineplot(data=df_trans_mcc_fraud.groupby('hour')['amount'].sum().reset_index(), x='hour', y='amount', marker='o')\n"
   ]
  },
  {
   "cell_type": "markdown",
   "id": "f200516b-9e7e-4b47-a61d-82f63ea71566",
   "metadata": {},
   "source": [
    "#### 💡 Transaction Insight\n",
    "**Observation:** The majority of transactions occur between **1 PM and 2 PM**.\n"
   ]
  },
  {
   "cell_type": "code",
   "execution_count": 184,
   "id": "8ae04688-2301-4c10-b97c-ddfb8933195b",
   "metadata": {},
   "outputs": [
    {
     "data": {
      "image/png": "[encoded data removed]",
      "text/plain": [
       "<Figure size 600x400 with 1 Axes>"
      ]
     },
     "metadata": {},
     "output_type": "display_data"
    }
   ],
   "source": [
    "\n",
    "plt.figure(figsize=(6,4))\n",
    "sns.barplot(data=df_trans_mcc_fraud.groupby('month')['amount'].sum().reset_index()\n",
    ", x='month', y='amount', palette='viridis')\n",
    "plt.title(\"Total Transaction Amount by Month\")\n",
    "plt.xlabel(\"Month\")\n",
    "plt.ylabel(\"Total Amount\")\n",
    "plt.tight_layout()\n",
    "plt.show()\n"
   ]
  },
  {
   "cell_type": "code",
   "execution_count": 186,
   "id": "db267d65-fd78-4721-a703-491d56270c6b",
   "metadata": {},
   "outputs": [
    {
     "data": {
      "image/png": "[encoded data removed]",
      "text/plain": [
       "<Figure size 1000x300 with 1 Axes>"
      ]
     },
     "metadata": {},
     "output_type": "display_data"
    }
   ],
   "source": [
    "day_sum = df_trans_mcc_fraud.groupby('day')['amount'].sum().reset_index()\n",
    "\n",
    "plt.figure(figsize=(10,3))\n",
    "sns.lineplot(data=day_sum, x='day', y='amount', marker='o', linewidth=2, palette='viridis')\n",
    "plt.title(\"Total Transaction Amount by Day of Month\")\n",
    "plt.xlabel(\"Day of Month\")\n",
    "plt.ylabel(\"Total Amount\")\n",
    "plt.xticks(range(1,32))  # تظهر كل الأيام من 1 إلى 31\n",
    "plt.tight_layout()\n",
    "plt.show()"
   ]
  },
  {
   "cell_type": "markdown",
   "id": "b619caa4-2152-42f6-8146-760461cef8d6",
   "metadata": {},
   "source": [
    "**💡 Note:** The highest transaction amount occurs on **Day 14** of the month.\n"
   ]
  },
  {
   "cell_type": "code",
   "execution_count": 191,
   "id": "bb376010-3d73-48d3-8796-b32eb024c7e9",
   "metadata": {},
   "outputs": [
    {
     "name": "stdout",
     "output_type": "stream",
     "text": [
      "Value\n",
      "No            8901631\n",
      "No Attempt    4390952\n",
      "Yes             13332\n",
      "Name: count, dtype: int64\n"
     ]
    }
   ],
   "source": [
    "fraud_count = df_trans_mcc_fraud['Value'].value_counts()\n",
    "print(fraud_count)\n"
   ]
  },
  {
   "cell_type": "code",
   "execution_count": 200,
   "id": "5a2d68c7-cc94-4993-8c8b-40a77a87f452",
   "metadata": {},
   "outputs": [
    {
     "data": {
      "image/png": "[encoded data removed]",
      "text/plain": [
       "<Figure size 500x300 with 1 Axes>"
      ]
     },
     "metadata": {},
     "output_type": "display_data"
    }
   ],
   "source": [
    "top_fraud = df_trans_mcc_fraud.groupby('merchant_city')['Value'].apply(lambda x: (x=='Yes').sum()).sort_values(ascending=False).head(4).reset_index()\n",
    "fig, ax = plt.subplots(figsize=(5,3))\n",
    "sns.barplot(data=top_fraud, y='merchant_city', x='Value', palette='Reds', ax=ax)\n",
    "ax.set_title(\"Top 15 Merchant Cities by Fraud Count\")\n",
    "ax.set_xlabel(\"Fraud Count\")\n",
    "ax.set_ylabel(\"Merchant City\")\n",
    "plt.tight_layout()\n",
    "plt.show()"
   ]
  },
  {
   "cell_type": "code",
   "execution_count": 204,
   "id": "c297002a-9135-4362-9522-4e3114649af9",
   "metadata": {},
   "outputs": [
    {
     "data": {
      "image/png": "[encoded data removed]",
      "text/plain": [
       "<Figure size 600x400 with 1 Axes>"
      ]
     },
     "metadata": {},
     "output_type": "display_data"
    }
   ],
   "source": [
    "fig, ax = plt.subplots(figsize=(6,4))\n",
    "sns.countplot(data=df_trans_mcc_fraud, x='use_chip', hue='Value', palette='Set2', ax=ax)\n",
    "ax.set_yscale('log')\n",
    "ax.set_title(\"Transaction Count by Chip Usage and Fraud (log scale)\")\n",
    "ax.set_xlabel(\"Used Chip\")\n",
    "ax.set_ylabel(\"Count (log scale)\")\n",
    "plt.tight_layout()\n",
    "plt.show()\n"
   ]
  },
  {
   "cell_type": "markdown",
   "id": "1a5dc12d-8e57-43c8-8464-da2c3623c78a",
   "metadata": {},
   "source": [
    "<h3 style=\"color: darkblue;\">💡 Note:</h3>\n",
    "<p style=\"color: darkgreen; font-weight: bold;\">\n",
    "Highest fraud attempts in online transactions where the chip was used occurred  <span style=\"color: red;\"></span>.\n",
    "</p>\n"
   ]
  },
  {
   "cell_type": "markdown",
   "id": "f529262c-f6a6-49b7-9fd1-77871d750017",
   "metadata": {},
   "source": [
    "<h3 style=\"color: darkblue;\"> Save my project:</h3>\n"
   ]
  },
  {
   "cell_type": "code",
   "execution_count": 223,
   "id": "e82f70e8-cdc2-4a6d-80f9-998b2741cc77",
   "metadata": {},
   "outputs": [],
   "source": [
    "df_cards_users.to_csv(\"df_cards_users.csv\", index=False)\n"
   ]
  },
  {
   "cell_type": "code",
   "execution_count": null,
   "id": "abfc7749-8019-4a24-91a4-f9d6cab6d63e",
   "metadata": {
    "scrolled": true
   },
   "outputs": [],
   "source": [
    "df_trans_mcc_fraud.to_csv(\"df_trans_mcc_fraud.csv\", index=False)\n"
   ]
  }
 ],
 "metadata": {
  "kernelspec": {
   "display_name": "Python 3 (ipykernel)",
   "language": "python",
   "name": "python3"
  },
  "language_info": {
   "codemirror_mode": {
    "name": "ipython",
    "version": 3
   },
   "file_extension": ".py",
   "mimetype": "text/x-python",
   "name": "python",
   "nbconvert_exporter": "python",
   "pygments_lexer": "ipython3",
   "version": "3.13.5"
  }
 },
 "nbformat": 4,
 "nbformat_minor": 5
}
